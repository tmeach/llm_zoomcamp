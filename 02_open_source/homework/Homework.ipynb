{
 "cells": [
  {
   "cell_type": "markdown",
   "id": "956096e1-df13-4e01-943f-a18ab43f01c2",
   "metadata": {},
   "source": [
    "## Homework: Open-Source LLMs\n",
    "In this homework, we'll experiment more with Ollama"
   ]
  },
  {
   "cell_type": "markdown",
   "id": "1477c902-c4ea-4e2c-8b87-38c207829e2e",
   "metadata": {},
   "source": [
    "## Q1. Running Ollama with Docker\n",
    "Let's run ollama with Docker. We will need to execute the same command as in the lectures:\n"
   ]
  },
  {
   "cell_type": "markdown",
   "id": "4827e3ca-473c-4ed7-9784-30aa56b0c338",
   "metadata": {},
   "source": [
    "``` bash\n",
    "docker run -it \\\n",
    "    --rm \\\n",
    "    -v ollama:/root/.ollama \\\n",
    "    -p 11434:11434 \\\n",
    "    --name ollama \\\n",
    "    ollama/ollama\n",
    "```"
   ]
  },
  {
   "cell_type": "markdown",
   "id": "d85ba74d-0895-4997-96f3-1585739fa2ad",
   "metadata": {},
   "source": [
    "What's the version of ollama client?\n",
    "\n",
    "To find out, enter the container and execute ollama with the -v flag."
   ]
  },
  {
   "attachments": {
    "52bfc845-8f9f-4c9d-8089-c849181554b2.png": {
     "image/png": "[encoded data removed]"
    }
   },
   "cell_type": "markdown",
   "id": "db9da432-22ce-45e6-b0e4-5ac77971481e",
   "metadata": {},
   "source": [
    "![image.png](attachment:52bfc845-8f9f-4c9d-8089-c849181554b2.png)"
   ]
  },
  {
   "cell_type": "markdown",
   "id": "735af4f3-6118-479b-9c8f-5b9cad56182a",
   "metadata": {},
   "source": [
    "### Answer:\n",
    "- 0.1.48"
   ]
  },
  {
   "cell_type": "markdown",
   "id": "45a43641-049a-4456-8698-43e3f78ef050",
   "metadata": {},
   "source": [
    "## Q2. Downloading an LLM\n",
    "We will donwload a smaller LLM - gemma:2b.\n",
    "\n",
    "Again let's enter the container and pull the model:"
   ]
  },
  {
   "cell_type": "markdown",
   "id": "c13795b4-9389-4a37-a294-a96fb40f491b",
   "metadata": {},
   "source": [
    "```ollama pull gemma:2b```"
   ]
  },
  {
   "cell_type": "markdown",
   "id": "8fdddba4-cb3a-49fc-a1e4-206c528e6b71",
   "metadata": {},
   "source": [
    "In docker, it saved the results into /root/.ollama\n",
    "\n",
    "We're interested in the metadata about this model. You can find it in ```models/manifests/registry.ollama.ai/library```\n",
    "\n",
    "What's the content of the file related to gemma?"
   ]
  },
  {
   "cell_type": "code",
   "execution_count": null,
   "id": "2708ce82-b91a-4ac1-8dfb-87122355ce2a",
   "metadata": {},
   "outputs": [],
   "source": []
  },
  {
   "cell_type": "markdown",
   "id": "269dc01f-c7da-4474-a960-b0433ec24628",
   "metadata": {},
   "source": [
    "### Answer:\n",
    "```{\"schemaVersion\":2,\"mediaType\":\"application/vnd.docker.distribution.manifest.v2+json\",\"config\":{\"mediaType\":\"application/vnd.docker.container.image.v1+json\",\"digest\":\"sha256:887433b89a901c156f7e6944442f3c9e57f3c55d6ed52042cbb7303aea994290\",\"size\":483},\"layers\":[{\"mediaType\":\"application/vnd.ollama.image.model\",\"digest\":\"sha256:c1864a5eb19305c40519da12cc543519e48a0697ecd30e15d5ac228644957d12\",\"size\":1678447520},{\"mediaType\":\"application/vnd.ollama.image.license\",\"digest\":\"sha256:097a36493f718248845233af1d3fefe7a303f864fae13bc31a3a9704229378ca\",\"size\":8433},{\"mediaType\":\"application/vnd.ollama.image.template\",\"digest\":\"sha256:109037bec39c0becc8221222ae23557559bc594290945a2c4221ab4f303b8871\",\"size\":136},{\"mediaType\":\"application/vnd.ollama.image.params\",\"digest\":\"sha256:22a838ceb7fb22755a3b0ae9b4eadde629d19be1f651f73efb8c6b4e2cd0eea0\",\"size\":84}]}```"
   ]
  },
  {
   "cell_type": "code",
   "execution_count": null,
   "id": "33486176-3f70-4a27-9abd-dee429dc67da",
   "metadata": {},
   "outputs": [],
   "source": []
  },
  {
   "cell_type": "markdown",
   "id": "7fa1a647-d927-4e08-a381-94beabe29ddb",
   "metadata": {},
   "source": [
    "## Q3. Running the LLM\n",
    "Test the following prompt: \"10 * 10\". What's the answer?"
   ]
  },
  {
   "cell_type": "markdown",
   "id": "a970781a-bc0a-4612-9945-7c7fcd923c84",
   "metadata": {},
   "source": [
    "```set a client```"
   ]
  },
  {
   "cell_type": "code",
   "execution_count": 2,
   "id": "7e961b04-ca1c-4cbf-a8c7-4f759575082c",
   "metadata": {},
   "outputs": [],
   "source": [
    "from openai import OpenAI\n",
    "\n",
    "\n",
    "client = OpenAI(\n",
    "    base_url = 'http://localhost:11434/v1/',\n",
    "    api_key = 'ollama'\n",
    "    \n",
    ")"
   ]
  },
  {
   "cell_type": "code",
   "execution_count": null,
   "id": "af8ae5f5-cb5d-4543-addb-c51d220ad70f",
   "metadata": {},
   "outputs": [],
   "source": []
  },
  {
   "cell_type": "code",
   "execution_count": 3,
   "id": "d89d10fa-4bd6-43e7-b516-a0665f1e6797",
   "metadata": {},
   "outputs": [],
   "source": [
    "def llm(prompt):\n",
    "    response = client.chat.completions.create(\n",
    "        model='gemma:2b',\n",
    "        messages=[{\"role\": \"user\", \"content\": prompt}]\n",
    "    )\n",
    "    \n",
    "    return response.choices[0].message.content"
   ]
  },
  {
   "cell_type": "code",
   "execution_count": 4,
   "id": "7b163dd2-d8a4-456c-a3b5-57b815f1d0ec",
   "metadata": {},
   "outputs": [
    {
     "data": {
      "text/plain": [
       "'Sure. The following code is an example of a Python program that executes a calculation:\\n\\n```python\\n10 * 10\\n```\\n\\n**Explanation:**\\n\\n* `10` is the first number.\\n* `*` is the multiplication operator.\\n* `10` is the second number.\\n* `=` is the assignment operator.\\n\\n**Output:**\\n\\nThe code will execute the calculation and display the result:\\n\\n```\\n100\\n```\\n\\n**Note:**\\n\\n* The `start_of_turn` and `end_of_turn` are optional keywords that are used by the Python parser to determine the start and end of a code block.\\n* The `*` operator can be used for multiplication, division, and exponentiation.\\n* The `print()` function can be used to display messages or print values.'"
      ]
     },
     "execution_count": 4,
     "metadata": {},
     "output_type": "execute_result"
    }
   ],
   "source": [
    "llm('10 * 10')"
   ]
  },
  {
   "cell_type": "markdown",
   "id": "1d338c85-45c5-4ea1-97bb-b4b839030282",
   "metadata": {},
   "source": [
    "### Answer:\n",
    "\n",
    "```Sure. The following code is an example of a Python program that executes a calculation:\\n\\n```python\\n10 * 10\\n```\\n\\n**Explanation:**\\n\\n* `10` is the first number.\\n* `*` is the multiplication operator.\\n* `10` is the second number.\\n* `=` is the assignment operator.\\n\\n**Output:**\\n\\nThe code will execute the calculation and display the result:\\n\\n```\\n100\\n```\\n\\n**Note:**\\n\\n* The `start_of_turn` and `end_of_turn` are optional keywords that are used by the Python parser to determine the start and end of a code block.\\n* The `*` operator can be used for multiplication, division, and exponentiation.\\n* The `print()` function can be used to display messages or print values.```"
   ]
  },
  {
   "cell_type": "markdown",
   "id": "c32d453a-0639-4d28-bd3b-52db9e0217da",
   "metadata": {},
   "source": [
    "## Q4. Donwloading the weights\n",
    "\n",
    "\n",
    "We don't want to pull the weights every time we run a docker container. Let's do it once and have them available every time we start a container.\n",
    "\n",
    "First, we will need to change how we run the container.\n",
    "\n",
    "Instead of mapping the /root/.ollama folder to a named volume, let's map it to a local directory:"
   ]
  },
  {
   "cell_type": "markdown",
   "id": "e3a326b7-8207-431c-8ed0-4373b7fde3a2",
   "metadata": {},
   "source": [
    "```mkdir ollama_files\n",
    "\n",
    "docker run -it \\\n",
    "    --rm \\\n",
    "    -v ./ollama_files:/root/.ollama \\\n",
    "    -p 11434:11434 \\\n",
    "    --name ollama \\\n",
    "    ollama/ollama```"
   ]
  },
  {
   "cell_type": "markdown",
   "id": "e940f9c2-16ac-4ea5-91a8-ee50521b5ef0",
   "metadata": {},
   "source": [
    "Now pull the model:"
   ]
  },
  {
   "cell_type": "markdown",
   "id": "c4bba396-85b2-43cc-a3f7-32fda5cd51e6",
   "metadata": {},
   "source": [
    "```docker exec -it ollama ollama pull gemma:2b ```"
   ]
  },
  {
   "cell_type": "markdown",
   "id": "c625f6d5-22d1-46a1-ae63-83189356c6b2",
   "metadata": {},
   "source": [
    "What's the size of the ollama_files/models folder?\n",
    "\n",
    "- 0.6G\n",
    "- 1.2G\n",
    "- 1.7G\n",
    "- 2.2G"
   ]
  },
  {
   "attachments": {
    "c77e36a2-eea9-4faa-8f42-a80af2d69ed5.png": {
     "image/png": "[encoded data removed]"
    }
   },
   "cell_type": "markdown",
   "id": "b073b5a8-f5f9-4d32-a878-a562eccb91ee",
   "metadata": {},
   "source": [
    "![image.png](attachment:c77e36a2-eea9-4faa-8f42-a80af2d69ed5.png)"
   ]
  },
  {
   "cell_type": "markdown",
   "id": "cf0531a2-c22a-44db-b8ee-a12e1a795d73",
   "metadata": {},
   "source": [
    "### Answer:\n",
    "- 1.7 G"
   ]
  },
  {
   "cell_type": "markdown",
   "id": "3f4926c2-ccc6-4b9c-aad6-1de319594319",
   "metadata": {},
   "source": [
    "## Q5. Adding the weights\n",
    "Let's now stop the container and add the weights to a new image\n",
    "\n",
    "For that, let's create a Dockerfile:"
   ]
  },
  {
   "cell_type": "markdown",
   "id": "e4c9062f-4f93-4537-a85e-93fce58fde16",
   "metadata": {},
   "source": [
    "```\n",
    "FROM ollama/ollama\n",
    "\n",
    "COPY ...\n",
    "```"
   ]
  },
  {
   "cell_type": "markdown",
   "id": "b5d6c4b1-fada-48f4-a4d9-374d2be49966",
   "metadata": {},
   "source": [
    "What do you put after COPY?"
   ]
  },
  {
   "cell_type": "markdown",
   "id": "f3441557-17ce-461c-a19d-536b47aac940",
   "metadata": {},
   "source": [
    "```./ollama_files /root/.ollama```"
   ]
  },
  {
   "cell_type": "markdown",
   "id": "a57fa701-423b-48a4-b38d-d353ded2266e",
   "metadata": {},
   "source": [
    "## Q6. Serving it\n",
    "Let's build it:\n",
    "\n",
    "```docker build -t ollama-gemma2b .```"
   ]
  },
  {
   "cell_type": "markdown",
   "id": "ce6e1da0-4bfb-4d1e-96c1-cbb97e0c8322",
   "metadata": {},
   "source": [
    "And run it:"
   ]
  },
  {
   "cell_type": "markdown",
   "id": "fea30bdf-0b5c-4344-adc2-893fe258fa80",
   "metadata": {},
   "source": [
    "```docker run -it --rm -p 11434:11434 ollama-gemma2b```"
   ]
  },
  {
   "cell_type": "markdown",
   "id": "b889a123-5a17-4085-97bd-7b1c557c26e9",
   "metadata": {},
   "source": [
    "We can connect to it using the OpenAI client\n",
    "\n",
    "Let's test it with the following prompt:"
   ]
  },
  {
   "cell_type": "markdown",
   "id": "555958d9-8cef-4b98-9502-1d699960ce9c",
   "metadata": {},
   "source": [
    "```prompt = \"What's the formula for energy?\"```"
   ]
  },
  {
   "cell_type": "markdown",
   "id": "7bee0845-3c48-4e33-9575-fab95b0ae595",
   "metadata": {},
   "source": [
    "Also, to make results reproducible, set the ```temperature``` parameter to 0:"
   ]
  },
  {
   "cell_type": "markdown",
   "id": "f7315dac-1454-44c5-97fb-b2dc1e53a3b0",
   "metadata": {},
   "source": [
    "```\n",
    "response = client.chat.completions.create(\n",
    "    #...\n",
    "    temperature=0.0\n",
    ")\n",
    "```"
   ]
  },
  {
   "cell_type": "markdown",
   "id": "d909adb3-1304-419a-8076-12434f4f534c",
   "metadata": {},
   "source": [
    "How many completion tokens did you get in response?\n",
    "\n",
    "- 304\n",
    "- 604\n",
    "- 904\n",
    "- 1204"
   ]
  },
  {
   "cell_type": "code",
   "execution_count": 10,
   "id": "672e23b8-6b9b-4fa2-8e52-7a1c314daf89",
   "metadata": {},
   "outputs": [],
   "source": [
    "from openai import OpenAI\n",
    "\n",
    "\n",
    "client = OpenAI(\n",
    "    base_url = 'http://localhost:11434/v1/',\n",
    "    api_key = 'ollama'\n",
    "    \n",
    ")"
   ]
  },
  {
   "cell_type": "code",
   "execution_count": 11,
   "id": "396df422-acfd-4b57-a220-39e80ec0bc84",
   "metadata": {},
   "outputs": [],
   "source": [
    "def llm(prompt):\n",
    "    response = client.chat.completions.create(\n",
    "        model='gemma:2b',\n",
    "        messages=[{\"role\": \"user\", \"content\": prompt}],\n",
    "        temperature=0.0\n",
    "    )\n",
    "    \n",
    "    return response.choices[0].message.content"
   ]
  },
  {
   "cell_type": "code",
   "execution_count": 13,
   "id": "dfb99ec7-9e55-49d1-838a-616512f2a855",
   "metadata": {},
   "outputs": [
    {
     "data": {
      "text/plain": [
       "\"Sure, here's the formula for energy:\\n\\n**E = K + U**\\n\\nWhere:\\n\\n* **E** is the energy in joules (J)\\n* **K** is the kinetic energy in joules (J)\\n* **U** is the potential energy in joules (J)\\n\\n**Kinetic energy (K)** is the energy an object possesses when it moves or is in motion. It is calculated as half the product of an object's mass (m) and its velocity (v) squared:\\n\\n**K = 1/2mv^2**\\n\\n**Potential energy (U)** is the energy an object possesses due to its position or configuration. It is calculated as the product of an object's mass, gravitational constant (g), and height or position above a reference point.\\n\\n**U = mgh**\\n\\nWhere:\\n\\n* **m** is the mass in kilograms (kg)\\n* **g** is the gravitational constant (9.8 m/s^2)\\n* **h** is the height or position in meters (m)\\n\\nThe formula shows that energy can be expressed as the sum of kinetic and potential energy. The kinetic energy is a measure of the object's ability to do work, while the potential energy is a measure of the object's ability to do work against a force.\""
      ]
     },
     "execution_count": 13,
     "metadata": {},
     "output_type": "execute_result"
    }
   ],
   "source": [
    "llm(\"What's the formula for energy?\")"
   ]
  },
  {
   "cell_type": "markdown",
   "id": "51a1542c-99ca-47c2-add1-841a07905590",
   "metadata": {},
   "source": [
    "```How many completion tokens did you get in response?```"
   ]
  },
  {
   "cell_type": "code",
   "execution_count": 16,
   "id": "0f7823a5-c3d8-4a45-a329-61ea8af2bc3f",
   "metadata": {},
   "outputs": [],
   "source": [
    "response = client.chat.completions.create(\n",
    "        model='gemma:2b',\n",
    "        messages=[{\"role\": \"user\", \"content\": \"What's the formula for energy?\"}],\n",
    "        temperature=0.0\n",
    "    )"
   ]
  },
  {
   "cell_type": "code",
   "execution_count": 27,
   "id": "f795523e-014a-4d6d-96cc-bfa667b929e0",
   "metadata": {},
   "outputs": [
    {
     "data": {
      "text/plain": [
       "304"
      ]
     },
     "execution_count": 27,
     "metadata": {},
     "output_type": "execute_result"
    }
   ],
   "source": [
    "response.usage.completion_tokens"
   ]
  },
  {
   "cell_type": "markdown",
   "id": "068507cf-0541-48ba-8c5c-57c438ce4007",
   "metadata": {},
   "source": [
    "### Answer:\n",
    "- 304"
   ]
  }
 ],
 "metadata": {
  "kernelspec": {
   "display_name": "Python 3 (ipykernel)",
   "language": "python",
   "name": "python3"
  },
  "language_info": {
   "codemirror_mode": {
    "name": "ipython",
    "version": 3
   },
   "file_extension": ".py",
   "mimetype": "text/x-python",
   "name": "python",
   "nbconvert_exporter": "python",
   "pygments_lexer": "ipython3",
   "version": "3.10.13"
  }
 },
 "nbformat": 4,
 "nbformat_minor": 5
}
