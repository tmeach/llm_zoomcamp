{
 "cells": [
  {
   "cell_type": "markdown",
   "id": "2aa28b24-b1fc-4970-9c63-213dd8bf0661",
   "metadata": {},
   "source": [
    "The easiest way to run an LLM without a GPU is using [Ollama](https://github.com/ollama/ollama)\n"
   ]
  },
  {
   "cell_type": "markdown",
   "id": "4dc1f22e-3222-4c3c-bfb2-f9455014e6f2",
   "metadata": {},
   "source": [
    "```Preparing (for Linux)```"
   ]
  },
  {
   "cell_type": "code",
   "execution_count": null,
   "id": "30b8f6bf-d75b-4416-8e60-8674f8522810",
   "metadata": {},
   "outputs": [],
   "source": [
    "curl -fsSL https://ollama.com/install.sh | sh\n",
    "\n",
    "ollama start\n",
    "ollama pull phi3\n",
    "ollama run phi3"
   ]
  },
  {
   "cell_type": "markdown",
   "id": "81e0f7a5-2985-4b90-98dd-2be1a4c17a81",
   "metadata": {},
   "source": [
    "```Connecting to it with OpenAI API:```"
   ]
  },
  {
   "cell_type": "code",
   "execution_count": null,
   "id": "6fe7b776-77b9-4428-92cd-09c42fb348b6",
   "metadata": {},
   "outputs": [],
   "source": [
    "from openai import OpenAI\n",
    "\n",
    "client = OpenAI(\n",
    "    base_url='http://localhost:11434/v1/',\n",
    "    api_key='ollama',\n",
    ")"
   ]
  },
  {
   "cell_type": "markdown",
   "id": "c9afac01-d291-4843-90a5-a948a05b4297",
   "metadata": {},
   "source": [
    "```Docker```"
   ]
  },
  {
   "cell_type": "code",
   "execution_count": null,
   "id": "f1103ab7-8dd2-465c-afc5-77f26bfadb79",
   "metadata": {},
   "outputs": [],
   "source": [
    "docker run -it \\\n",
    "    -v ollama:/root/.ollama \\\n",
    "    -p 11434:11434 \\\n",
    "    --name ollama \\\n",
    "    ollama/ollama"
   ]
  },
  {
   "cell_type": "markdown",
   "id": "5bc391f1-17ab-458c-9d60-55b1739d2793",
   "metadata": {},
   "source": [
    "```Pulling the model```"
   ]
  },
  {
   "cell_type": "code",
   "execution_count": null,
   "id": "c9215cab-a849-4ec8-b31b-bb5456ee2f7e",
   "metadata": {},
   "outputs": [],
   "source": [
    "docker exec -it ollama bash\n",
    "ollama pull phi3"
   ]
  },
  {
   "cell_type": "markdown",
   "id": "057249c8-48dc-4c88-89e0-6e902ae0450a",
   "metadata": {},
   "source": [
    "```LLM```"
   ]
  },
  {
   "cell_type": "code",
   "execution_count": null,
   "id": "2a86bf14-88f5-4687-9cac-ccca93b4a71b",
   "metadata": {},
   "outputs": [],
   "source": [
    "!rm -f minsearch.py\n",
    "!wget https://raw.githubusercontent.com/alexeygrigorev/minsearch/main/minsearch.py"
   ]
  },
  {
   "cell_type": "code",
   "execution_count": null,
   "id": "f22fd0be-fecc-457e-bb90-457ee96526cf",
   "metadata": {},
   "outputs": [],
   "source": [
    "import requests \n",
    "import minsearch\n",
    "\n",
    "docs_url = 'https://github.com/DataTalksClub/llm-zoomcamp/blob/main/01-intro/documents.json?raw=1'\n",
    "docs_response = requests.get(docs_url)\n",
    "documents_raw = docs_response.json()\n",
    "\n",
    "documents = []\n",
    "\n",
    "for course in documents_raw:\n",
    "    course_name = course['course']\n",
    "\n",
    "    for doc in course['documents']:\n",
    "        doc['course'] = course_name\n",
    "        documents.append(doc)\n",
    "\n",
    "index = minsearch.Index(\n",
    "    text_fields=[\"question\", \"text\", \"section\"],\n",
    "    keyword_fields=[\"course\"]\n",
    ")\n",
    "\n",
    "index.fit(documents)"
   ]
  },
  {
   "cell_type": "code",
   "execution_count": null,
   "id": "c7b7c7b7-926d-4bd8-8477-d9aa22e45d54",
   "metadata": {},
   "outputs": [],
   "source": [
    "def search(query):\n",
    "    boost = {'question': 3.0, 'section': 0.5}\n",
    "\n",
    "    results = index.search(\n",
    "        query=query,\n",
    "        filter_dict={'course': 'data-engineering-zoomcamp'},\n",
    "        boost_dict=boost,\n",
    "        num_results=5\n",
    "    )\n",
    "\n",
    "    return results"
   ]
  },
  {
   "cell_type": "code",
   "execution_count": null,
   "id": "bf9927bd-b275-4843-a2fb-ceaf56034466",
   "metadata": {},
   "outputs": [],
   "source": [
    "def build_prompt(query, search_results):\n",
    "    prompt_template = \"\"\"\n",
    "You're a course teaching assistant. Answer the QUESTION based on the CONTEXT from the FAQ database.\n",
    "Use only the facts from the CONTEXT when answering the QUESTION.\n",
    "\n",
    "QUESTION: {question}\n",
    "\n",
    "CONTEXT: \n",
    "{context}\n",
    "\"\"\".strip()\n",
    "\n",
    "    context = \"\"\n",
    "    \n",
    "    for doc in search_results:\n",
    "        context = context + f\"section: {doc['section']}\\nquestion: {doc['question']}\\nanswer: {doc['text']}\\n\\n\"\n",
    "    \n",
    "    prompt = prompt_template.format(question=query, context=context).strip()\n",
    "    return prompt\n",
    "\n",
    "def llm(prompt):\n",
    "    response = client.chat.completions.create(\n",
    "        model='phi3',\n",
    "        messages=[{\"role\": \"user\", \"content\": prompt}]\n",
    "    )\n",
    "    \n",
    "    return response.choices[0].message.content"
   ]
  },
  {
   "cell_type": "code",
   "execution_count": null,
   "id": "1317dd5e-3f13-4105-aad8-9b0c7ba0a170",
   "metadata": {},
   "outputs": [],
   "source": [
    "def rag(query):\n",
    "    search_results = search(query)\n",
    "    prompt = build_prompt(query, search_results)\n",
    "    answer = llm(prompt)\n",
    "    return answer"
   ]
  },
  {
   "cell_type": "code",
   "execution_count": null,
   "id": "0101df4a-2d2a-4abe-a3b2-87239d1dba13",
   "metadata": {},
   "outputs": [],
   "source": [
    "from openai import OpenAI\n",
    "\n",
    "client = OpenAI(\n",
    "    base_url='http://localhost:11434/v1/',\n",
    "    api_key='ollama',\n",
    ")"
   ]
  },
  {
   "cell_type": "code",
   "execution_count": null,
   "id": "6d3e00ca-19dc-445d-911d-15dfc49bfc0b",
   "metadata": {},
   "outputs": [],
   "source": [
    "llm('write that this is a test')\n"
   ]
  },
  {
   "cell_type": "code",
   "execution_count": null,
   "id": "44defffd-9ffa-4c1e-b2d8-3971b1ed1209",
   "metadata": {},
   "outputs": [],
   "source": [
    "print(_)"
   ]
  }
 ],
 "metadata": {
  "kernelspec": {
   "display_name": "Python 3 (ipykernel)",
   "language": "python",
   "name": "python3"
  },
  "language_info": {
   "codemirror_mode": {
    "name": "ipython",
    "version": 3
   },
   "file_extension": ".py",
   "mimetype": "text/x-python",
   "name": "python",
   "nbconvert_exporter": "python",
   "pygments_lexer": "ipython3",
   "version": "3.10.13"
  }
 },
 "nbformat": 4,
 "nbformat_minor": 5
}
