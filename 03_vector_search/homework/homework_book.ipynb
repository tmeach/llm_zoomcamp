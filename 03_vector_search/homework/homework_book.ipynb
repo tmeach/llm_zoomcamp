{
 "cells": [
  {
   "cell_type": "markdown",
   "id": "7f6b339e-be34-40a4-9cef-00723563cf8b",
   "metadata": {},
   "source": [
    "## Homework: Vector Search\n",
    "In this homework, we'll experiemnt with vector with and without Elasticsearch"
   ]
  },
  {
   "cell_type": "markdown",
   "id": "a20f9a9c-be46-4856-a24e-edf1708870e4",
   "metadata": {},
   "source": [
    "## Q1. Getting the embeddings model\n",
    "\n",
    "First, we will get the embeddings model ```multi-qa-distilbert-cos-v1```from the [Sentence Transformer library](https://www.sbert.net/docs/sentence_transformer/pretrained_models.html#model-overview)\n"
   ]
  },
  {
   "cell_type": "code",
   "execution_count": 20,
   "id": "0cb7ad0b-8551-49f6-9fe0-9cd8c9d166da",
   "metadata": {},
   "outputs": [],
   "source": [
    "import tqdm\n",
    "from sentence_transformers import SentenceTransformer"
   ]
  },
  {
   "cell_type": "code",
   "execution_count": 2,
   "id": "d7a04e0b-3822-43f8-a73a-a117ac57d702",
   "metadata": {},
   "outputs": [],
   "source": [
    "model_name = 'multi-qa-distilbert-cos-v1'\n",
    "model = SentenceTransformer(model_name)"
   ]
  },
  {
   "cell_type": "markdown",
   "id": "65273555-c0a5-40fc-b081-7aad6eee9bf4",
   "metadata": {},
   "source": [
    "```Create the embedding for this user question:```"
   ]
  },
  {
   "cell_type": "code",
   "execution_count": 3,
   "id": "2b13873f-40a7-4b4d-b9a9-d765eb6d814e",
   "metadata": {},
   "outputs": [],
   "source": [
    "user_question = \"I just discovered the course. Can I still join it?\""
   ]
  },
  {
   "cell_type": "code",
   "execution_count": 4,
   "id": "e314ec5c-4141-4d5b-863d-390c0a7ff3f8",
   "metadata": {},
   "outputs": [
    {
     "data": {
      "text/plain": [
       "768"
      ]
     },
     "execution_count": 4,
     "metadata": {},
     "output_type": "execute_result"
    }
   ],
   "source": [
    "v = model.encode(user_question)\n",
    "\n",
    "len(v)"
   ]
  },
  {
   "cell_type": "code",
   "execution_count": 5,
   "id": "758029f5-6526-4529-86c4-d810a5950c6f",
   "metadata": {},
   "outputs": [
    {
     "data": {
      "text/plain": [
       "array([ 7.82226548e-02, -4.01311405e-02,  3.86135913e-02, -1.78966438e-04,\n",
       "        8.92347097e-02, -5.04591092e-02, -1.05026569e-02,  3.71055678e-02,\n",
       "       -4.18713912e-02,  3.48084792e-02, -1.20701883e-02, -2.36942340e-02,\n",
       "        3.87900174e-02,  1.60988607e-02,  3.50747295e-02,  3.04746162e-03,\n",
       "        5.79672381e-02, -4.10627462e-02, -3.41552682e-02, -2.56396383e-02,\n",
       "       -3.55263911e-02,  1.42908087e-02, -1.62799917e-02,  3.21446545e-02,\n",
       "       -4.66897376e-02,  7.89186060e-02,  4.90160920e-02,  1.56761166e-02,\n",
       "       -1.69110075e-02,  2.26482227e-02,  5.60206100e-02, -3.98361087e-02,\n",
       "        6.77409917e-02, -1.20209912e-02,  1.12621894e-03, -1.94394365e-02,\n",
       "       -2.65951678e-02,  1.06177367e-02,  1.69687122e-02,  1.13487840e-02,\n",
       "       -2.97063086e-02,  5.25258258e-02, -1.41453547e-02,  4.61699851e-02,\n",
       "        1.17066065e-02, -2.38053519e-02, -6.32558241e-02, -1.92042235e-02,\n",
       "       -7.10592186e-03,  3.24167833e-02,  2.49618199e-02, -5.27503015e-03,\n",
       "        2.01149024e-02, -3.72371152e-02,  3.46405394e-02, -3.29310261e-02,\n",
       "       -2.01484803e-02,  5.07839303e-03, -4.55506742e-02,  7.89169688e-03,\n",
       "       -4.91713583e-02,  4.69897278e-02, -3.80505981e-06,  2.48839278e-02,\n",
       "       -2.96471510e-02,  6.69760117e-03,  3.58087718e-02, -7.18094781e-03,\n",
       "       -3.03277262e-02,  7.95786362e-03,  3.36150825e-02, -2.25491151e-02,\n",
       "       -3.62097844e-02, -2.03929059e-02, -2.70679290e-03, -8.15981850e-02,\n",
       "       -1.43993227e-02,  4.90568765e-02, -2.11568642e-02,  9.31681832e-04,\n",
       "        6.57264590e-02,  4.69609909e-02,  1.23655573e-02, -2.84593143e-02,\n",
       "       -2.57528741e-02,  1.46925887e-02, -5.53987361e-02, -3.05970423e-02,\n",
       "        5.75574040e-02,  2.81941295e-02, -1.30107012e-02, -2.08614748e-02,\n",
       "       -2.43033655e-02, -2.40275078e-02,  4.11576889e-02, -5.92422858e-02,\n",
       "       -1.69009902e-03,  4.00552042e-02,  2.43852679e-02, -1.10905133e-02,\n",
       "       -2.93893088e-02,  2.01826487e-02,  4.22846200e-03,  2.95343306e-02,\n",
       "        3.16523425e-02,  3.00929882e-02,  8.98854155e-03, -8.30620825e-02,\n",
       "       -2.24144291e-02,  1.82182994e-02, -5.66515476e-02, -4.21271920e-02,\n",
       "        3.27233039e-02, -2.10854225e-02, -4.79223672e-03,  1.90163292e-02,\n",
       "        4.55397591e-02, -9.62481555e-03, -2.30316184e-02, -3.52343246e-02,\n",
       "       -3.91419008e-02, -3.46547812e-02,  2.47354899e-02,  4.71566729e-02,\n",
       "        3.46270725e-02,  5.29964082e-02, -2.86405422e-02, -1.71785112e-02,\n",
       "       -1.30146304e-02, -5.79404645e-02,  3.99250425e-02, -5.88766523e-02,\n",
       "        4.57601547e-02,  2.09622178e-02, -1.52759813e-02,  3.25414911e-02,\n",
       "        2.08252836e-02, -2.48042028e-02, -4.24147137e-02,  2.95954887e-02,\n",
       "       -4.62034531e-02,  3.17028686e-02, -7.64973415e-03,  5.84934885e-03,\n",
       "       -3.90673876e-02,  8.11777450e-03, -3.60446684e-02,  6.34325966e-02,\n",
       "       -4.23138998e-02, -1.57085271e-03,  9.18294396e-03, -2.99421139e-02,\n",
       "       -2.27955412e-02, -9.86715313e-03,  2.94452514e-02,  1.75152998e-02,\n",
       "       -1.93444565e-02,  2.40450036e-02,  2.92803030e-02,  4.78763308e-04,\n",
       "        2.55402960e-02, -3.34960185e-02,  3.04799844e-02, -9.45277605e-03,\n",
       "        3.35257240e-02,  5.77760562e-02, -1.58551391e-02, -7.15148151e-02,\n",
       "        6.71641843e-04, -7.77694816e-03, -5.37220389e-02, -1.58578809e-02,\n",
       "        2.93348879e-02, -5.35059497e-02, -2.82784868e-02, -3.81728970e-02,\n",
       "        1.05941994e-03,  3.31668765e-03,  2.60325111e-02, -2.05704104e-02,\n",
       "       -2.55044121e-02, -2.73665562e-02,  2.12153289e-02, -3.17961685e-02,\n",
       "       -2.71619149e-02, -3.00257225e-02, -5.35569862e-02,  1.62939113e-02,\n",
       "        2.55571841e-03,  7.67827779e-02,  3.24226320e-02,  3.80413905e-02,\n",
       "       -2.25355513e-02, -4.81641367e-02,  2.26790644e-02,  1.25548532e-02,\n",
       "       -4.78156134e-02,  4.13825735e-02, -9.52939037e-03,  3.37111093e-02,\n",
       "        3.21243405e-02,  5.91824725e-02, -7.25298226e-02, -7.38689676e-03,\n",
       "       -3.22184600e-02,  3.09309158e-02,  5.23214079e-02,  3.24243642e-02,\n",
       "       -3.95455174e-02, -2.63985246e-02, -2.35443041e-02,  2.39192112e-03,\n",
       "        3.20997350e-02,  8.44291691e-03,  9.85345244e-03,  1.95927639e-02,\n",
       "        3.99371944e-02,  4.52749990e-02,  3.52183990e-02,  1.67367645e-02,\n",
       "        2.65721064e-02, -8.88593495e-03, -1.27366967e-02, -5.89371249e-02,\n",
       "       -2.89509296e-02,  2.18168125e-02, -4.62896600e-02, -5.12742111e-03,\n",
       "       -2.73846313e-02, -4.35681045e-02, -3.33959796e-02,  2.61665066e-03,\n",
       "        6.77051917e-02, -6.68666838e-03,  4.25815843e-02, -8.47998168e-03,\n",
       "       -4.45969924e-02, -4.92077544e-02,  2.54241284e-02,  3.41309234e-02,\n",
       "        4.66176234e-02,  3.41222510e-02, -3.89920324e-02,  6.68450594e-02,\n",
       "        6.32637590e-02, -1.53560825e-02, -6.43526320e-04,  1.88045055e-02,\n",
       "        1.10457549e-02, -2.76161581e-02,  4.89471853e-02, -6.65619299e-02,\n",
       "        4.41557867e-03, -8.06404930e-03, -7.56582916e-02,  5.20581715e-02,\n",
       "       -1.68674570e-02, -1.51841035e-02,  2.59556379e-02,  4.38798638e-03,\n",
       "        1.29939690e-02,  2.37958338e-02, -3.92605551e-02,  3.40803619e-03,\n",
       "       -4.65255305e-02, -5.80669269e-02, -4.86324355e-02,  3.85592617e-02,\n",
       "        1.58163607e-02, -3.55917811e-02, -6.13349043e-02, -4.66559343e-02,\n",
       "        3.48288640e-02, -3.00835352e-02, -3.80521938e-02,  5.35570718e-02,\n",
       "       -4.42223065e-02, -4.11476716e-02,  2.34690122e-02,  4.05010542e-05,\n",
       "       -2.18803668e-03, -2.06341594e-03, -4.33782414e-02, -6.21988031e-04,\n",
       "       -4.64339629e-02,  8.27862918e-02, -1.49072725e-02,  3.24270837e-02,\n",
       "        1.35792540e-02, -1.49164279e-03,  8.62602443e-02,  6.92182630e-02,\n",
       "        4.57403949e-03,  3.55520216e-03,  6.91157132e-02, -9.68690887e-02,\n",
       "        3.21001112e-02, -1.90142468e-02,  7.19640031e-02,  7.18858466e-02,\n",
       "        2.10939180e-02, -8.37227912e-04, -2.27937177e-02,  1.27857607e-02,\n",
       "        9.23394412e-02, -5.41783869e-02,  4.61493842e-02, -7.08942907e-03,\n",
       "       -3.20987105e-02, -3.81699614e-02, -4.22405638e-02,  5.16356155e-02,\n",
       "        1.07124997e-02, -5.59868626e-02, -2.29028445e-02,  3.15916613e-02,\n",
       "       -5.60135320e-02,  1.22199180e-02, -1.85765512e-02, -3.86150531e-03,\n",
       "        5.66245541e-02,  3.09960041e-02,  3.28162983e-02,  5.95071204e-02,\n",
       "       -1.15265511e-02,  2.45990828e-02,  1.98689359e-03,  3.61350439e-02,\n",
       "        7.19022304e-02,  6.74675079e-03, -2.22808663e-02,  3.80802527e-02,\n",
       "       -3.19978781e-02,  4.77899686e-02, -4.88462038e-02, -2.62966491e-02,\n",
       "       -9.14799236e-03, -3.70225236e-02, -2.10673101e-02,  3.66252549e-02,\n",
       "       -2.93567218e-03,  1.90015603e-02, -4.06738557e-02, -9.88849811e-03,\n",
       "       -1.32069951e-02, -1.84205808e-02, -3.04457080e-02, -1.17648123e-02,\n",
       "       -2.16220692e-02, -1.32907946e-02, -4.90810424e-02,  3.75495143e-02,\n",
       "        2.36799140e-02,  6.20988198e-03,  1.94518864e-02,  1.11171426e-02,\n",
       "       -1.27271013e-02, -1.16941072e-02, -4.15579043e-02,  3.03730648e-03,\n",
       "        3.35785486e-02,  2.02150960e-02, -5.23533672e-02, -1.03417831e-02,\n",
       "       -3.44100222e-02, -1.83595158e-02,  1.93087698e-03,  3.44448425e-02,\n",
       "       -2.83047985e-02,  7.25740707e-03,  5.40008917e-02, -2.32120547e-02,\n",
       "       -2.37849094e-02,  5.14848623e-03, -1.04726683e-02, -3.04511134e-02,\n",
       "       -1.45228235e-02,  5.83771989e-02,  6.24929834e-03,  1.76533423e-02,\n",
       "        2.71377694e-02, -2.07602661e-02, -4.82953712e-03,  4.38607484e-02,\n",
       "        4.89790700e-02, -1.84726194e-02,  2.23985426e-02,  2.48786900e-02,\n",
       "       -7.83604383e-03,  2.70838495e-02,  8.69912207e-02,  5.14607914e-02,\n",
       "        2.68816669e-02, -2.45199017e-02,  1.98570788e-02,  2.55423058e-02,\n",
       "       -4.49709669e-02,  1.18260039e-02, -5.71240447e-02,  6.86878189e-02,\n",
       "        2.32738610e-02,  4.34287377e-02,  1.60184391e-02,  3.36551219e-02,\n",
       "        1.18744997e-02,  1.84787195e-02,  2.18717437e-02,  8.06097686e-03,\n",
       "        2.65186783e-02, -1.67910997e-02, -1.14257671e-02,  5.79696000e-02,\n",
       "        2.19955631e-02, -7.88591802e-02,  4.26271632e-02, -7.00563341e-02,\n",
       "        5.12132347e-02,  2.96157692e-02,  4.99608479e-02,  9.40513331e-03,\n",
       "       -4.73498330e-02,  4.21216972e-02, -1.81927457e-02, -7.69210979e-02,\n",
       "        9.72863659e-03, -6.79067299e-02,  1.55991707e-02,  2.72873025e-02,\n",
       "        4.54439968e-03, -2.10018735e-03,  7.53396973e-02,  1.33481680e-03,\n",
       "       -1.99394729e-02, -5.24484590e-02,  3.05672060e-03,  1.98291969e-02,\n",
       "        2.39940807e-02,  1.24235880e-02,  1.47050265e-02,  1.03529589e-02,\n",
       "       -4.38815281e-02,  4.75225709e-02,  3.21548879e-02,  6.52114162e-04,\n",
       "       -2.02529635e-02,  4.32258882e-02, -2.71596666e-02,  1.38091687e-02,\n",
       "       -3.86391468e-02,  2.84993276e-02, -2.27448484e-03,  3.99671830e-02,\n",
       "        1.53477099e-02,  1.32416096e-02, -7.11276606e-02,  3.93648371e-02,\n",
       "        2.51131710e-02, -2.36388445e-02,  1.80941354e-02, -2.43954528e-02,\n",
       "        2.19318410e-03,  3.75051983e-02,  1.56092057e-02,  7.14064203e-03,\n",
       "       -3.41359712e-02,  7.57620391e-03,  2.62274388e-02,  1.14289289e-02,\n",
       "        3.52655686e-02,  2.13690219e-03, -4.56283707e-03, -2.63882335e-02,\n",
       "        6.55588508e-02,  6.00263663e-02, -3.54714617e-02, -1.01350760e-02,\n",
       "        2.56268885e-02, -1.02697171e-01,  3.54785323e-02, -6.22319356e-02,\n",
       "       -1.14733977e-02, -3.44268000e-03,  1.05505169e-03, -2.81982776e-03,\n",
       "        6.26723096e-02, -4.57265675e-02,  1.70462877e-02, -8.05483162e-02,\n",
       "        1.55107807e-02, -2.58711661e-04,  2.01547276e-02,  8.79565068e-03,\n",
       "        2.62557846e-02,  8.31562385e-04, -3.23720016e-02, -5.27925603e-02,\n",
       "        1.55638680e-02,  1.15739089e-02, -2.99575040e-03, -8.24663788e-03,\n",
       "       -3.26189138e-02, -7.73414597e-02, -4.12966944e-02, -2.21012570e-02,\n",
       "        4.75402828e-03, -1.25991041e-02,  1.07523538e-02,  4.99581657e-02,\n",
       "        2.15218812e-02,  2.69317944e-02,  3.28038894e-02,  7.46345147e-03,\n",
       "        1.83876902e-02, -2.74957772e-02, -9.13319178e-03, -1.22790448e-02,\n",
       "        2.07576193e-02,  1.40681854e-02,  1.09913824e-02, -2.26452295e-02,\n",
       "        6.41365945e-02, -1.79608297e-02, -4.23230492e-02, -1.88530446e-03,\n",
       "       -3.59299891e-02,  1.20294318e-02,  1.00361360e-02,  6.56100512e-02,\n",
       "        2.87165996e-02,  2.78465226e-02, -5.23849875e-02,  3.18163037e-02,\n",
       "       -4.65675965e-02,  1.38317067e-02,  2.83224564e-02,  7.78382039e-03,\n",
       "       -9.74422507e-03, -3.97435762e-02, -2.49803960e-02, -2.32911278e-02,\n",
       "       -2.11589038e-02, -6.84602931e-03, -1.95434690e-02, -2.29272041e-02,\n",
       "       -1.46510219e-02, -2.22448800e-02, -1.09536527e-02, -3.67134400e-02,\n",
       "       -1.84324663e-02, -1.04103079e-02, -8.88101105e-03, -1.47620523e-02,\n",
       "       -2.92523894e-02,  1.00569651e-02,  2.28201374e-02,  1.42327184e-03,\n",
       "       -2.35474743e-02, -2.39605289e-02,  5.40141128e-02, -2.16813292e-02,\n",
       "        1.94904730e-02, -3.11479066e-02, -1.54089881e-02, -1.45635931e-02,\n",
       "        5.81609830e-02,  3.05503402e-02, -5.09663625e-03, -1.68099571e-02,\n",
       "       -3.46655361e-02, -2.07241401e-02, -4.60087508e-02,  2.22174148e-03,\n",
       "       -4.44852635e-02,  1.13986572e-02,  3.25434506e-02, -7.11341351e-02,\n",
       "       -2.52612736e-02, -1.93929002e-02,  1.29123619e-02, -3.82378586e-02,\n",
       "       -1.61821116e-02,  3.58506851e-02,  5.04317284e-02, -4.06110659e-03,\n",
       "        1.62504464e-02, -7.24662542e-02,  2.72172000e-02,  1.78223494e-02,\n",
       "        1.37029039e-02,  2.36819778e-02,  2.59892847e-02,  4.08842601e-02,\n",
       "        6.46982156e-03, -1.15187764e-02, -2.65878811e-02,  9.67550930e-03,\n",
       "       -5.31226061e-02,  8.27150885e-04,  1.87266115e-02, -2.92988610e-03,\n",
       "        2.49405000e-02, -1.47512518e-02,  1.41259236e-02,  4.05030325e-02,\n",
       "       -1.27288513e-02, -6.76722527e-02,  4.83829528e-02,  4.07700390e-02,\n",
       "        1.98605303e-02,  3.03293932e-02,  2.63720937e-02,  5.23594357e-02,\n",
       "       -3.34631242e-02, -9.35077388e-03,  1.69177558e-02,  4.34683636e-02,\n",
       "        3.83584835e-02,  4.47562449e-02,  1.90879237e-02, -1.47993593e-02,\n",
       "       -4.34137182e-03,  1.08403396e-02,  4.95932903e-03, -1.63312294e-02,\n",
       "       -1.97148160e-03, -4.17675115e-02,  6.56750873e-02, -6.79403171e-02,\n",
       "        4.33396222e-03, -1.69463288e-02,  2.51759049e-02,  2.56763790e-02,\n",
       "        1.15081819e-03, -1.54735418e-02, -7.34513439e-03, -5.32572754e-02,\n",
       "        3.48775974e-03, -1.38180405e-02, -5.89082129e-02,  2.92865466e-03,\n",
       "        5.04819043e-02,  3.35813081e-03, -8.88556316e-02, -3.84001024e-02,\n",
       "       -2.22147852e-02, -2.82134265e-02, -5.42565063e-03,  2.85600629e-02,\n",
       "       -4.50810678e-02,  7.93271931e-04,  8.93172249e-02,  1.16105061e-02,\n",
       "       -3.18008624e-02,  2.66568139e-02,  2.71802712e-02,  1.89267434e-02,\n",
       "       -2.06058472e-02, -3.02396640e-02, -2.85009667e-02, -3.13029774e-02,\n",
       "       -1.97963081e-02, -6.64772978e-03, -1.67978276e-02, -1.99807789e-02,\n",
       "       -5.34575805e-02, -4.45691025e-04, -2.96823028e-02,  4.37867381e-02,\n",
       "       -1.00504002e-02, -1.09997410e-02,  2.21026279e-02, -3.46548930e-02,\n",
       "        2.11835746e-02,  1.56232687e-02,  2.64695361e-02, -2.34831516e-02,\n",
       "        2.44938117e-02,  4.38888483e-02,  7.06146704e-03, -1.21593354e-02,\n",
       "        1.87902339e-02, -6.91951020e-03,  1.30047482e-02,  1.27161061e-02,\n",
       "       -2.23635416e-03,  2.10030675e-02,  6.99695721e-02,  3.16451974e-02,\n",
       "       -2.35833172e-02,  4.63551981e-03, -6.60421327e-03, -3.26112323e-02,\n",
       "        7.33723640e-02, -8.55090991e-02, -4.05770428e-02,  2.57487390e-02,\n",
       "       -5.12588657e-02,  6.70370162e-02, -1.24506066e-02, -8.91838446e-02,\n",
       "        5.48583232e-02, -4.54949923e-02, -3.45565155e-02, -7.73074850e-02,\n",
       "        4.11657728e-02, -4.30639535e-02,  2.70703062e-02,  3.20439860e-02,\n",
       "       -4.77702059e-02, -1.56586170e-02,  1.72707047e-02, -5.23967221e-02,\n",
       "       -7.17989579e-02,  4.30010585e-03,  7.25752689e-05,  5.29346913e-02,\n",
       "       -3.14253271e-02,  1.90561004e-02,  2.56206449e-02,  7.90969878e-02,\n",
       "        2.13809479e-02, -2.44315583e-02, -1.42572904e-02,  3.64166945e-02,\n",
       "        4.89886813e-02,  2.09607687e-02, -4.13178988e-02,  4.09340709e-02,\n",
       "       -1.21459812e-01,  6.68874681e-02, -3.10818490e-04, -6.26350287e-03,\n",
       "        3.98600399e-02,  5.48594780e-02, -1.15817979e-01,  5.31956479e-02,\n",
       "       -4.32696566e-02,  4.33376320e-02,  2.90152542e-02, -8.89771730e-02,\n",
       "       -2.17882283e-02,  1.54281259e-02,  3.62119824e-02, -9.14942175e-02,\n",
       "       -3.93840950e-03, -3.60860415e-02, -7.26094889e-03,  8.90838169e-03,\n",
       "       -5.32953665e-02,  3.61572951e-02,  8.56206343e-02, -1.42062111e-02,\n",
       "        2.44349018e-02,  1.94476324e-03,  5.81037812e-02, -2.16630846e-02,\n",
       "        2.43256316e-02, -2.31526350e-03, -1.37544121e-03,  5.89746274e-02,\n",
       "        8.06517340e-03, -5.71867311e-03,  2.14907620e-02, -2.76927166e-02,\n",
       "       -3.97252664e-02,  3.13828029e-02,  1.40225887e-03,  5.06811216e-02],\n",
       "      dtype=float32)"
      ]
     },
     "execution_count": 5,
     "metadata": {},
     "output_type": "execute_result"
    }
   ],
   "source": [
    "v"
   ]
  },
  {
   "cell_type": "code",
   "execution_count": 6,
   "id": "4c1fd707-e773-4101-9cab-9578a709556d",
   "metadata": {},
   "outputs": [
    {
     "data": {
      "text/plain": [
       "0.078222655"
      ]
     },
     "execution_count": 6,
     "metadata": {},
     "output_type": "execute_result"
    }
   ],
   "source": [
    "v[0]"
   ]
  },
  {
   "cell_type": "markdown",
   "id": "8ce1b8cd-e6d5-43a6-b946-93ac734fbb4d",
   "metadata": {},
   "source": [
    "### Question:\n",
    "What's the first value of the resulting vector?\n",
    "\n",
    "- -0.24\n",
    "- -0.04\n",
    "- 0.07\n",
    "- 0.27"
   ]
  },
  {
   "cell_type": "markdown",
   "id": "eed45ae1-8220-474e-8192-b533e098c208",
   "metadata": {},
   "source": [
    "### Answer:\n",
    "- 0.07"
   ]
  },
  {
   "cell_type": "markdown",
   "id": "fd156102-44f2-4f9d-bd58-8c2032545a3d",
   "metadata": {},
   "source": [
    "## Prepare the documents\n",
    "\n",
    "Now we will create the embeddings for the documents.\n",
    "\n",
    "Load the documents with ids that we prepared in the module:"
   ]
  },
  {
   "cell_type": "code",
   "execution_count": 7,
   "id": "d59e3dfb-86cd-41f9-9c33-ba4a19b247b0",
   "metadata": {},
   "outputs": [],
   "source": [
    "import requests \n",
    "\n",
    "base_url = 'https://github.com/DataTalksClub/llm-zoomcamp/blob/main'\n",
    "relative_url = '03-vector-search/eval/documents-with-ids.json'\n",
    "docs_url = f'{base_url}/{relative_url}?raw=1'\n",
    "docs_response = requests.get(docs_url)\n",
    "documents = docs_response.json()"
   ]
  },
  {
   "cell_type": "markdown",
   "id": "c2a3c025-1f59-40fa-b97f-9e7647dabbd7",
   "metadata": {},
   "source": [
    "We will use only a subset of the questions - the questions for \"machine-learning-zoomcamp\". After filtering, you should have only 375 documents"
   ]
  },
  {
   "cell_type": "code",
   "execution_count": 8,
   "id": "7da0290e-e258-41af-a48b-c57b687d79e7",
   "metadata": {},
   "outputs": [
    {
     "data": {
      "text/plain": [
       "{'text': \"The purpose of this document is to capture frequently asked technical questions\\nThe exact day and hour of the course will be 15th Jan 2024 at 17h00. The course will start with the first  “Office Hours'' live.1\\nSubscribe to course public Google Calendar (it works from Desktop only).\\nRegister before the course starts using this link.\\nJoin the course Telegram channel with announcements.\\nDon’t forget to register in DataTalks.Club's Slack and join the channel.\",\n",
       " 'section': 'General course-related questions',\n",
       " 'question': 'Course - When will the course start?',\n",
       " 'course': 'data-engineering-zoomcamp',\n",
       " 'id': 'c02e79ef'}"
      ]
     },
     "execution_count": 8,
     "metadata": {},
     "output_type": "execute_result"
    }
   ],
   "source": [
    "documents[0]"
   ]
  },
  {
   "cell_type": "code",
   "execution_count": 9,
   "id": "e4614b67-8e2b-4135-8e3f-b40434203478",
   "metadata": {},
   "outputs": [
    {
     "data": {
      "text/plain": [
       "948"
      ]
     },
     "execution_count": 9,
     "metadata": {},
     "output_type": "execute_result"
    }
   ],
   "source": [
    "len(documents)"
   ]
  },
  {
   "cell_type": "code",
   "execution_count": 10,
   "id": "c97ce95d-8902-45f3-8bc7-05a8174e42f4",
   "metadata": {},
   "outputs": [
    {
     "data": {
      "text/plain": [
       "{'text': 'Machine Learning Zoomcamp FAQ\\nThe purpose of this document is to capture frequently asked technical questions.\\nWe did this for our data engineering course and it worked quite well. Check this document for inspiration on how to structure your questions and answers:\\nData Engineering Zoomcamp FAQ\\nIn the course GitHub repository there’s a link. Here it is: https://airtable.com/shryxwLd0COOEaqXo\\nwork',\n",
       " 'section': 'General course-related questions',\n",
       " 'question': 'How do I sign up?',\n",
       " 'course': 'machine-learning-zoomcamp',\n",
       " 'id': '0227b872'}"
      ]
     },
     "execution_count": 10,
     "metadata": {},
     "output_type": "execute_result"
    }
   ],
   "source": [
    "filter_doc = [i for i in documents if i['course'] == 'machine-learning-zoomcamp']\n",
    "\n",
    "filter_doc[0]"
   ]
  },
  {
   "cell_type": "code",
   "execution_count": 11,
   "id": "b4d48a73-d908-4568-8bfd-c31a74dfcd70",
   "metadata": {},
   "outputs": [
    {
     "data": {
      "text/plain": [
       "375"
      ]
     },
     "execution_count": 11,
     "metadata": {},
     "output_type": "execute_result"
    }
   ],
   "source": [
    "len(filter_doc)"
   ]
  },
  {
   "cell_type": "markdown",
   "id": "22efee96-fb5b-458b-a54d-9fe2eb05d8b7",
   "metadata": {},
   "source": [
    "## Q2. Creating the embeddings\n",
    "\n",
    "\n",
    "Now for each document, we will create an embedding for both question and answer fields.\n",
    "\n",
    "We want to put all of them into a single matrix ```X```:\n",
    "\n",
    "- Create a list ```embeddings```\n",
    "- Iterate over each document\n",
    "- ```qa_text = f'{question} {text}'```\n",
    "- compute the embedding for```qa_text```, append to ```embeddings```\n",
    "- At the end, let ```X = np.array(embeddings)``` ```(import numpy as np)```\n",
    "\n",
    "What's the shape of X? ```(X.shape)```. Include the parantheses."
   ]
  },
  {
   "cell_type": "code",
   "execution_count": 59,
   "id": "2faa4332-381f-4e2c-bff5-7faf6ecd1168",
   "metadata": {},
   "outputs": [
    {
     "name": "stderr",
     "output_type": "stream",
     "text": [
      "100%|██████████████████████████████████████████████████████████████████████| 375/375 [01:03<00:00,  5.93it/s]\n"
     ]
    }
   ],
   "source": [
    "from tqdm.auto import tqdm\n",
    "\n",
    "embeddings = []\n",
    "\n",
    "for i in tqdm(filter_doc):\n",
    "    question = i['question']\n",
    "    text = i['text']\n",
    "    qa_text = f'{question} {text}'\n",
    "    emb_qa_text = model.encode(qa_text)\n",
    "    embeddings.append(emb_qa_text)"
   ]
  },
  {
   "cell_type": "markdown",
   "id": "4b9ae778-2e6d-41cc-800c-ecdd0e09661d",
   "metadata": {},
   "source": [
    "```Put all into one single matrix```"
   ]
  },
  {
   "cell_type": "code",
   "execution_count": 60,
   "id": "20b068e7-70bc-425d-9d0f-563fdf8ba0c7",
   "metadata": {},
   "outputs": [],
   "source": [
    "import numpy as np\n",
    "\n",
    "X = np.array(embeddings)"
   ]
  },
  {
   "cell_type": "code",
   "execution_count": 126,
   "id": "a0d55ea6-1beb-4199-a55a-53d2796214f1",
   "metadata": {},
   "outputs": [
    {
     "data": {
      "text/plain": [
       "array([[ 0.08805905,  0.01559355,  0.07925582, ...,  0.00745118,\n",
       "         0.00241914,  0.01147128],\n",
       "       [ 0.07066919, -0.01930568,  0.07738373, ...,  0.04495561,\n",
       "         0.01078552, -0.02316595],\n",
       "       [ 0.10229158, -0.01663243,  0.03414485, ...,  0.03215314,\n",
       "        -0.04317448, -0.04574372],\n",
       "       ...,\n",
       "       [-0.00768192,  0.0107567 ,  0.01190489, ...,  0.06066168,\n",
       "        -0.03393206,  0.01605331],\n",
       "       [ 0.13408281, -0.03755205,  0.01976525, ...,  0.02163627,\n",
       "        -0.01921137,  0.03690192],\n",
       "       [ 0.0438602 , -0.0130077 ,  0.06373122, ...,  0.03338452,\n",
       "         0.0225854 , -0.06305878]], dtype=float32)"
      ]
     },
     "execution_count": 126,
     "metadata": {},
     "output_type": "execute_result"
    }
   ],
   "source": [
    "X"
   ]
  },
  {
   "cell_type": "code",
   "execution_count": 62,
   "id": "a5af0a43-21dd-4999-b70c-ce8899069fc0",
   "metadata": {},
   "outputs": [
    {
     "data": {
      "text/plain": [
       "(375, 768)"
      ]
     },
     "execution_count": 62,
     "metadata": {},
     "output_type": "execute_result"
    }
   ],
   "source": [
    "X.shape"
   ]
  },
  {
   "cell_type": "markdown",
   "id": "17392534-7a2e-4647-a6e5-0675b833fe3d",
   "metadata": {},
   "source": [
    "### Answer:\n",
    "- (375, 768)"
   ]
  },
  {
   "cell_type": "markdown",
   "id": "974451f4-da2e-4276-8efb-260fca8d49d0",
   "metadata": {},
   "source": [
    "  "
   ]
  },
  {
   "cell_type": "markdown",
   "id": "ee7c50f0-a4a7-4fc1-bdc2-8e06d85b68cd",
   "metadata": {},
   "source": [
    "## Q3. Search\n",
    "\n",
    "We have the embeddings and the query vector. Now let's compute the cosine similarity between the vector from Q1 (let's call it ```v```) and the matrix from Q2.\n",
    "\n",
    "The vectors returned from the embedding model are already normalized (you can check it by computing a dot product of a vector with itself - it should return something very close to 1.0). This means that in order to compute the coside similarity, it's sufficient to multiply the matrix X by the vector ```v```:"
   ]
  },
  {
   "cell_type": "code",
   "execution_count": 63,
   "id": "c74c509e-86e7-40e4-a2e4-85af70ce3a4c",
   "metadata": {},
   "outputs": [
    {
     "data": {
      "text/plain": [
       "0.9999999"
      ]
     },
     "execution_count": 63,
     "metadata": {},
     "output_type": "execute_result"
    }
   ],
   "source": [
    "v.dot(v)"
   ]
  },
  {
   "cell_type": "code",
   "execution_count": 64,
   "id": "8f570a15-c51b-4194-8af5-e8242ae6a07e",
   "metadata": {},
   "outputs": [],
   "source": [
    "scores = X.dot(v)"
   ]
  },
  {
   "cell_type": "markdown",
   "id": "62b99927-6ffc-4bf5-b650-56acf4f61524",
   "metadata": {},
   "source": [
    "### Question: \n",
    "\n",
    "What's the highest score in the results?\n",
    "\n",
    "- 65.0\n",
    "- 6.5\n",
    "- 0.65\n",
    "- 0.065"
   ]
  },
  {
   "cell_type": "code",
   "execution_count": 65,
   "id": "dfa8808a-8186-440a-8b76-d8ae204b8c1e",
   "metadata": {},
   "outputs": [
    {
     "data": {
      "text/plain": [
       "0.6506573"
      ]
     },
     "execution_count": 65,
     "metadata": {},
     "output_type": "execute_result"
    }
   ],
   "source": [
    "scores.max()"
   ]
  },
  {
   "cell_type": "markdown",
   "id": "32589180-8695-4135-bcce-29763f23bb25",
   "metadata": {},
   "source": [
    "### Answer:\n",
    "- 0.65"
   ]
  },
  {
   "cell_type": "markdown",
   "id": "3a9fcd9f-c67c-4879-97a8-8383eccb0e53",
   "metadata": {},
   "source": [
    "## Vector search\n",
    "\n",
    "We can now compute the similarity between a query vector and all the embeddings.\n",
    "\n",
    "Let's use this to implement our own vector search"
   ]
  },
  {
   "cell_type": "code",
   "execution_count": 66,
   "id": "4c5580da-718b-4570-911c-0fc553b82e54",
   "metadata": {},
   "outputs": [
    {
     "data": {
      "text/plain": [
       "[{'text': 'Yes, you can. You won’t be able to submit some of the homeworks, but you can still take part in the course.\\nIn order to get a certificate, you need to submit 2 out of 3 course projects and review 3 peers’ Projects by the deadline. It means that if you join the course at the end of November and manage to work on two projects, you will still be eligible for a certificate.',\n",
       "  'section': 'General course-related questions',\n",
       "  'question': 'The course has already started. Can I still join it?',\n",
       "  'course': 'machine-learning-zoomcamp',\n",
       "  'id': 'ee58a693'},\n",
       " {'text': 'Welcome to the course! Go to the course page (http://mlzoomcamp.com/), scroll down and start going through the course materials. Then read everything in the cohort folder for your cohort’s year.\\nClick on the links and start watching the videos. Also watch office hours from previous cohorts. Go to DTC youtube channel and click on Playlists and search for {course yyyy}. ML Zoomcamp was first launched in 2021.\\nOr you can just use this link: http://mlzoomcamp.com/#syllabus',\n",
       "  'section': 'General course-related questions',\n",
       "  'question': 'I just joined. What should I do next? How can I access course materials?',\n",
       "  'course': 'machine-learning-zoomcamp',\n",
       "  'id': '0a278fb2'},\n",
       " {'text': \"The process is automated now, so you should receive the email eventually. If you haven’t, check your promotions tab in Gmail as well as spam.\\nIf you unsubscribed from our newsletter, you won't get course related updates too.\\nBut don't worry, it’s not a problem. To make sure you don’t miss anything, join the #course-ml-zoomcamp channel in Slack and our telegram channel with announcements. This is enough to follow the course.\",\n",
       "  'section': 'General course-related questions',\n",
       "  'question': \"I filled the form, but haven't received a confirmation email. Is it normal?\",\n",
       "  'course': 'machine-learning-zoomcamp',\n",
       "  'id': '6ba259b1'},\n",
       " {'text': 'Technically, yes. Advisable? Not really. Reasons:\\nSome homework(s) asks for specific python library versions.\\nAnswers may not match in MCQ options if using different languages other than Python 3.10 (the recommended version for 2023 cohort)\\nAnd as for midterms/capstones, your peer-reviewers may not know these other languages. Do you want to be penalized for others not knowing these other languages?\\nYou can create a separate repo using course’s lessons but written in other languages for your own learnings, but not advisable for submissions.\\ntx[source]',\n",
       "  'section': 'Miscellaneous',\n",
       "  'question': 'Can I do the course in other languages, like R or Scala?',\n",
       "  'course': 'machine-learning-zoomcamp',\n",
       "  'id': '9f261648'},\n",
       " {'text': 'We won’t re-record the course videos. The focus of the course and the skills we want to teach remained the same, and the videos are still up-to-date.\\nIf you haven’t taken part in the previous iteration, you can start watching the videos. It’ll be useful for you and you will learn new things. However, we recommend using Python 3.10 now instead of Python 3.8.',\n",
       "  'section': 'General course-related questions',\n",
       "  'question': 'The course videos are from the previous iteration. Will you release new ones or we’ll use the videos from 2021?',\n",
       "  'course': 'machine-learning-zoomcamp',\n",
       "  'id': 'e7ba6b8a'}]"
      ]
     },
     "execution_count": 66,
     "metadata": {},
     "output_type": "execute_result"
    }
   ],
   "source": [
    "class VectorSearchEngine():\n",
    "    def __init__(self, documents, embeddings):\n",
    "        self.documents = documents\n",
    "        self.embeddings = embeddings\n",
    "\n",
    "    def search(self, v_query, num_results=10):\n",
    "        scores = self.embeddings.dot(v_query)\n",
    "        idx = np.argsort(-scores)[:num_results]\n",
    "        return [self.documents[i] for i in idx]\n",
    "\n",
    "search_engine = VectorSearchEngine(documents=filter_doc, embeddings=X)\n",
    "search_engine.search(v, num_results=5)"
   ]
  },
  {
   "cell_type": "markdown",
   "id": "3dbbae7f-2e4a-4d66-a57c-f533d949c230",
   "metadata": {},
   "source": [
    "If you don't understand how the search function work:\n",
    "\n",
    "- Ask ChatGTP or any other LLM of your choice to explain the code\n",
    "- Check our pre-course workshop about implementing a search engine [here](https://github.com/alexeygrigorev/build-your-own-search-engine)"
   ]
  },
  {
   "cell_type": "markdown",
   "id": "c744a7ad-c949-411e-9dd4-44d005098bb9",
   "metadata": {},
   "source": [
    "## Q4. Hit-rate for our search engine\n",
    "\n",
    "Let's evaluate the performance of our own search engine. We will use the ```hit rate``` metric for evaluation.\n",
    "\n",
    "First, load the ground truth dataset:"
   ]
  },
  {
   "cell_type": "code",
   "execution_count": 16,
   "id": "0ac292f2-0333-4e37-a4ce-7ed7dd89fe56",
   "metadata": {},
   "outputs": [],
   "source": [
    "import pandas as pd\n",
    "\n",
    "base_url = 'https://github.com/DataTalksClub/llm-zoomcamp/blob/main'\n",
    "relative_url = '03-vector-search/eval/ground-truth-data.csv'\n",
    "ground_truth_url = f'{base_url}/{relative_url}?raw=1'\n",
    "\n",
    "df_ground_truth = pd.read_csv(ground_truth_url)\n",
    "df_ground_truth = df_ground_truth[df_ground_truth.course == 'machine-learning-zoomcamp']\n",
    "ground_truth = df_ground_truth.to_dict(orient='records')"
   ]
  },
  {
   "cell_type": "code",
   "execution_count": 17,
   "id": "b912276e-b2ed-421b-936b-42b2a4f84cc3",
   "metadata": {},
   "outputs": [
    {
     "data": {
      "text/html": [
       "<div>\n",
       "<style scoped>\n",
       "    .dataframe tbody tr th:only-of-type {\n",
       "        vertical-align: middle;\n",
       "    }\n",
       "\n",
       "    .dataframe tbody tr th {\n",
       "        vertical-align: top;\n",
       "    }\n",
       "\n",
       "    .dataframe thead th {\n",
       "        text-align: right;\n",
       "    }\n",
       "</style>\n",
       "<table border=\"1\" class=\"dataframe\">\n",
       "  <thead>\n",
       "    <tr style=\"text-align: right;\">\n",
       "      <th></th>\n",
       "      <th>question</th>\n",
       "      <th>course</th>\n",
       "      <th>document</th>\n",
       "    </tr>\n",
       "  </thead>\n",
       "  <tbody>\n",
       "    <tr>\n",
       "      <th>2123</th>\n",
       "      <td>Where can I sign up for the course?</td>\n",
       "      <td>machine-learning-zoomcamp</td>\n",
       "      <td>0227b872</td>\n",
       "    </tr>\n",
       "    <tr>\n",
       "      <th>2124</th>\n",
       "      <td>Can you provide a link to sign up?</td>\n",
       "      <td>machine-learning-zoomcamp</td>\n",
       "      <td>0227b872</td>\n",
       "    </tr>\n",
       "    <tr>\n",
       "      <th>2125</th>\n",
       "      <td>Is there an FAQ for this Machine Learning course?</td>\n",
       "      <td>machine-learning-zoomcamp</td>\n",
       "      <td>0227b872</td>\n",
       "    </tr>\n",
       "    <tr>\n",
       "      <th>2126</th>\n",
       "      <td>Does this course have a GitHub repository for ...</td>\n",
       "      <td>machine-learning-zoomcamp</td>\n",
       "      <td>0227b872</td>\n",
       "    </tr>\n",
       "    <tr>\n",
       "      <th>2127</th>\n",
       "      <td>How can I structure my questions and answers f...</td>\n",
       "      <td>machine-learning-zoomcamp</td>\n",
       "      <td>0227b872</td>\n",
       "    </tr>\n",
       "  </tbody>\n",
       "</table>\n",
       "</div>"
      ],
      "text/plain": [
       "                                               question  \\\n",
       "2123                Where can I sign up for the course?   \n",
       "2124                 Can you provide a link to sign up?   \n",
       "2125  Is there an FAQ for this Machine Learning course?   \n",
       "2126  Does this course have a GitHub repository for ...   \n",
       "2127  How can I structure my questions and answers f...   \n",
       "\n",
       "                         course  document  \n",
       "2123  machine-learning-zoomcamp  0227b872  \n",
       "2124  machine-learning-zoomcamp  0227b872  \n",
       "2125  machine-learning-zoomcamp  0227b872  \n",
       "2126  machine-learning-zoomcamp  0227b872  \n",
       "2127  machine-learning-zoomcamp  0227b872  "
      ]
     },
     "execution_count": 17,
     "metadata": {},
     "output_type": "execute_result"
    }
   ],
   "source": [
    "df_ground_truth.head(5)"
   ]
  },
  {
   "cell_type": "code",
   "execution_count": 18,
   "id": "f828c91f-4d93-4889-802a-8ff54c344b7c",
   "metadata": {},
   "outputs": [
    {
     "data": {
      "text/plain": [
       "{'question': 'Can you provide a link to sign up?',\n",
       " 'course': 'machine-learning-zoomcamp',\n",
       " 'document': '0227b872'}"
      ]
     },
     "execution_count": 18,
     "metadata": {},
     "output_type": "execute_result"
    }
   ],
   "source": [
    "ground_truth[1]"
   ]
  },
  {
   "cell_type": "markdown",
   "id": "108dfd8c-0bd4-4914-9bfe-1c5195c4f2a7",
   "metadata": {},
   "source": [
    "Now use the code from the module to calculate the ```hit rate``` of VectorSearchEngine with num_results=5.\n",
    "\n",
    "What did you get?\n",
    "\n",
    "- 0.93\n",
    "- 0.73\n",
    "- 0.53\n",
    "- 0.33"
   ]
  },
  {
   "cell_type": "code",
   "execution_count": 77,
   "id": "70dee8f8-9e4d-4ac8-ad30-9a045b2880bf",
   "metadata": {},
   "outputs": [],
   "source": [
    "def hit_rate(relevance_total):\n",
    "    cnt = 0\n",
    "    for line in relevance_total:\n",
    "        if True in line:\n",
    "            cnt = cnt + 1\n",
    "    return cnt / len(relevance_total)\n",
    "\n",
    "def mrr(relevance_total):\n",
    "    mrr_total = 0\n",
    "    for line in relevance_total:\n",
    "        for rank, is_relevant in enumerate(line, start=1):\n",
    "            if is_relevant:\n",
    "                mrr_total += 1 / rank\n",
    "                break\n",
    "    return mrr_total / len(relevance_total)"
   ]
  },
  {
   "cell_type": "code",
   "execution_count": 89,
   "id": "59d035c7-1aa1-4b0d-8b5f-d0c62f78212e",
   "metadata": {},
   "outputs": [
    {
     "name": "stderr",
     "output_type": "stream",
     "text": [
      "100%|████████████████████████████████████████████████████████████████████| 1830/1830 [01:22<00:00, 22.09it/s]"
     ]
    },
    {
     "name": "stdout",
     "output_type": "stream",
     "text": [
      "{'hit_rate': 0.9398907103825137, 'mrr': 0.8502823315118397}\n"
     ]
    },
    {
     "name": "stderr",
     "output_type": "stream",
     "text": [
      "\n"
     ]
    }
   ],
   "source": [
    "class VectorSearchEngine:\n",
    "    def __init__(self, documents, embeddings):\n",
    "        self.documents = documents\n",
    "        self.embeddings = embeddings\n",
    "\n",
    "    def search(self, v_query, num_results=10):\n",
    "        scores = self.embeddings.dot(v_query)\n",
    "        idx = np.argsort(-scores)[:num_results]\n",
    "        return [self.documents[i] for i in idx]\n",
    "\n",
    "\n",
    "search_engine = VectorSearchEngine(documents=filter_doc, embeddings=X)\n",
    "\n",
    "\n",
    "\n",
    "def evaluate(ground_truth, search_function):\n",
    "    relevance_total = []\n",
    "\n",
    "    for q in tqdm(ground_truth):\n",
    "        doc_id = q['document']\n",
    "        question = q['question']\n",
    "        course = q['course']\n",
    "\n",
    "        v_q = model.encode(question)\n",
    "        results = search_function(v_q)\n",
    "        \n",
    "        relevance = [d['id'] == doc_id for d in results]\n",
    "        relevance_total.append(relevance)\n",
    "\n",
    "    return {\n",
    "        'hit_rate': hit_rate(relevance_total),\n",
    "        'mrr': mrr(relevance_total),\n",
    "    }\n",
    "\n",
    "\n",
    "def question_vector_knn(v_query):\n",
    "    return search_engine.search(v_query, num_results=5)\n",
    "\n",
    "# 5. Оценка производительности\n",
    "performance = evaluate(ground_truth, question_vector_knn)\n",
    "print(performance)"
   ]
  },
  {
   "cell_type": "markdown",
   "id": "0f2746e6-9155-40a1-9201-7e333c230af5",
   "metadata": {},
   "source": [
    "### Answer:\n",
    "- 0.93"
   ]
  },
  {
   "cell_type": "markdown",
   "id": "47133d1d-79eb-4824-8e87-2e510a6dec37",
   "metadata": {},
   "source": [
    "## Q5. Indexing with Elasticsearch\n",
    "\n",
    "Now let's index these documents with elasticsearch\n",
    "\n",
    "- Create the index with the same settings as in the module (but change the dimensions)\n",
    "- Index the embeddings (note: you've already computed them)\n",
    "After indexing, let's perform the search of the same query from Q1.\n",
    "\n",
    "What's the ID of the document with the highest score?"
   ]
  },
  {
   "cell_type": "markdown",
   "id": "d6928925-f73c-45b5-9a34-225c588d5113",
   "metadata": {},
   "source": [
    "```index documents with ElasticSearch```"
   ]
  },
  {
   "cell_type": "code",
   "execution_count": 24,
   "id": "60e77de6-779d-46f6-a029-9ed4856c99cc",
   "metadata": {},
   "outputs": [
    {
     "name": "stderr",
     "output_type": "stream",
     "text": [
      "100%|██████████████████████████████████████████████████████████████████████| 375/375 [01:03<00:00,  5.90it/s]\n"
     ]
    }
   ],
   "source": [
    "from tqdm.auto import tqdm\n",
    "\n",
    "for doc in tqdm(filter_doc):\n",
    "    question = doc['question']\n",
    "    text = doc['text']\n",
    "    qa_text = f'{question} {text}'\n",
    "    doc['question_text_vector'] = model.encode(qa_text)"
   ]
  },
  {
   "cell_type": "code",
   "execution_count": 25,
   "id": "c421faf7-a7ee-4aee-97c2-d5956e5854d0",
   "metadata": {},
   "outputs": [
    {
     "data": {
      "text/plain": [
       "{'text': 'The course videos are pre-recorded, you can start watching the course right now.\\nWe will also occasionally have office hours - live sessions where we will answer your questions. The office hours sessions are recorded too.\\nYou can see the office hours as well as the pre-recorded course videos in the course playlist on YouTube.',\n",
       " 'section': 'General course-related questions',\n",
       " 'question': 'Is it going to be live? When?',\n",
       " 'course': 'machine-learning-zoomcamp',\n",
       " 'id': '39fda9f0',\n",
       " 'question_text_vector': array([ 7.06691891e-02, -1.93056818e-02,  7.73837268e-02,  2.37205159e-02,\n",
       "         8.63914639e-02, -2.04659123e-02,  9.15529486e-03,  4.65581082e-02,\n",
       "        -4.78188833e-03, -1.43747935e-02, -1.97507888e-02, -4.51360121e-02,\n",
       "         3.47972587e-02, -4.37994339e-02,  3.87682468e-02, -2.01997068e-02,\n",
       "        -1.13333657e-03, -4.24227193e-02,  3.04053314e-02, -3.29325274e-02,\n",
       "        -8.21831822e-03,  2.65472522e-03,  3.13991532e-02,  4.64935750e-02,\n",
       "        -4.02437896e-02,  5.76140992e-02, -1.99844502e-02,  2.95837503e-02,\n",
       "        -8.68471432e-03, -9.97345243e-03,  7.24730035e-03, -5.11227474e-02,\n",
       "         7.30461255e-02,  2.48600785e-02,  4.75398563e-02, -1.94741841e-02,\n",
       "        -6.19658045e-02,  6.10636733e-02, -7.48167513e-03,  4.05436046e-02,\n",
       "        -3.07619609e-02,  1.59537047e-02,  2.08376385e-02,  1.18389828e-02,\n",
       "        -3.59451994e-02, -1.50297992e-02,  4.09365706e-02, -4.85859904e-03,\n",
       "        -3.44599858e-02,  3.27185616e-02, -1.14695383e-02,  4.67685349e-02,\n",
       "         8.60479251e-02,  3.62660736e-03, -3.20636295e-02,  1.24089757e-03,\n",
       "         6.33656308e-02, -1.55532630e-02, -2.40863375e-02,  5.28555699e-02,\n",
       "        -1.35905659e-02,  4.79927510e-02, -7.03368410e-02,  2.31347280e-03,\n",
       "         1.69500150e-02, -5.88512309e-02,  1.51935155e-02, -4.45858464e-02,\n",
       "         5.13022542e-02,  4.76374896e-03,  5.64542972e-03,  5.24489097e-02,\n",
       "        -9.88455676e-03,  7.91263394e-03,  6.88488735e-03, -3.58096696e-02,\n",
       "         3.00881863e-02,  5.00754826e-02,  2.42829183e-03,  1.01425324e-03,\n",
       "         5.28851226e-02,  3.88704203e-02,  1.78081971e-02, -3.39097679e-02,\n",
       "        -4.82971407e-02,  4.05405927e-03, -2.42240950e-02, -3.64998840e-02,\n",
       "        -3.65789235e-02, -6.86024374e-04, -3.25459428e-02, -1.23639461e-02,\n",
       "        -2.04441547e-02, -2.94353236e-02, -4.11061347e-02,  1.23659018e-02,\n",
       "        -1.45729547e-02,  8.53968225e-03,  1.47753125e-02,  3.33582163e-02,\n",
       "        -3.98223922e-02, -2.17630211e-02,  4.45961729e-02,  1.09006660e-02,\n",
       "         6.93785772e-02,  7.01570511e-02, -1.97385196e-02, -5.06062731e-02,\n",
       "         1.53029161e-02,  8.25559720e-02, -1.74959954e-02, -7.64996745e-03,\n",
       "         5.56305535e-02, -4.34210934e-02,  1.05494852e-04,  2.61293221e-02,\n",
       "         4.05254588e-02,  1.05896955e-02, -3.37926969e-02, -3.02262791e-03,\n",
       "        -8.59233141e-02, -1.75143369e-02,  5.20037562e-02,  3.87253948e-02,\n",
       "         3.26775899e-03,  1.13937743e-02, -5.87344840e-02, -2.93329731e-02,\n",
       "         2.03454634e-03, -4.72410582e-02, -2.53411420e-02, -1.61070023e-02,\n",
       "         1.86378509e-02,  2.46879924e-02,  4.24237028e-02,  8.46842155e-02,\n",
       "        -1.69361942e-02, -7.46965781e-02, -4.80615348e-02,  7.07906634e-02,\n",
       "         2.40940414e-02,  2.76410021e-03,  6.62467675e-03,  6.18000552e-02,\n",
       "        -9.36014578e-02, -4.42473590e-02, -3.34969573e-02, -4.11559194e-02,\n",
       "        -3.36077181e-03, -4.32525575e-02, -1.77500080e-02, -3.77420597e-02,\n",
       "        -1.46109778e-02, -2.26953104e-02,  1.75931063e-02,  2.36241743e-02,\n",
       "         1.38746519e-02,  1.18298410e-02, -2.45029032e-02, -5.71215041e-02,\n",
       "         5.52087910e-02,  5.70028462e-02,  6.83957664e-03,  2.58141775e-02,\n",
       "        -1.62925776e-02,  2.32043546e-02, -3.91852222e-02, -3.25875990e-02,\n",
       "         4.62254956e-02, -2.25171838e-02, -4.86783199e-02,  2.80167479e-02,\n",
       "         4.31475118e-02,  3.18180374e-03, -6.02641143e-02,  4.97957617e-02,\n",
       "        -2.19057705e-02,  2.00787038e-02,  7.24216981e-04, -6.49966598e-02,\n",
       "        -1.07624149e-02, -7.98294470e-02,  4.53445837e-02, -2.15811729e-02,\n",
       "         1.72694195e-02, -4.48564105e-02,  5.16425222e-02,  5.48617914e-03,\n",
       "        -3.99292447e-03,  6.69965744e-02,  7.89446197e-03,  2.10869703e-02,\n",
       "        -4.77114087e-03, -3.03674564e-02,  5.18273562e-03, -4.54806425e-02,\n",
       "        -2.18661819e-02,  5.47878491e-03, -5.13450336e-03,  2.45321747e-02,\n",
       "         3.72892991e-02,  3.00129559e-02, -1.68754160e-02, -7.09655555e-03,\n",
       "        -3.31280790e-02,  1.71108153e-02,  1.57517493e-02, -6.91329241e-02,\n",
       "        -2.23465473e-03, -6.43882900e-02,  2.70488281e-02,  7.68764876e-03,\n",
       "         3.22105363e-02,  4.36308943e-02,  2.30126604e-02, -4.78606671e-03,\n",
       "         1.78608410e-02, -3.00425384e-02, -1.31770447e-02,  8.53046961e-03,\n",
       "         1.70079153e-02,  1.62104592e-02,  2.54499614e-02,  2.23212149e-02,\n",
       "        -4.35918123e-02, -5.00138365e-02, -6.04857504e-02,  3.18852141e-02,\n",
       "         6.63379347e-03, -4.69795316e-02,  1.05224894e-02,  5.06459642e-03,\n",
       "        -1.97486132e-02, -2.38757003e-02,  3.43524739e-02,  4.97544790e-03,\n",
       "        -3.97833325e-02, -3.38386819e-02,  1.75596699e-02, -3.74975353e-02,\n",
       "         8.58308673e-02,  6.88050687e-03,  3.51286978e-02, -2.96566344e-04,\n",
       "         6.22059666e-02,  1.16068835e-03, -2.00947784e-02,  3.88121754e-02,\n",
       "         2.77981553e-02, -3.64880785e-02,  4.07536663e-02, -1.00116856e-01,\n",
       "         1.38698227e-03,  2.92608812e-02, -1.14582166e-01,  1.98682752e-02,\n",
       "        -7.51495734e-02, -1.70311965e-02,  5.50939851e-02, -1.22500397e-02,\n",
       "         3.56124938e-02,  1.10365544e-02, -1.95201475e-03, -4.76364774e-04,\n",
       "        -1.89800619e-03, -8.36519450e-02, -3.61777167e-03, -3.51424478e-02,\n",
       "        -2.61332057e-02,  2.11330634e-02,  3.96005390e-03, -1.67821348e-02,\n",
       "         1.95695553e-02, -1.02783963e-02,  9.20002256e-03, -1.82073433e-02,\n",
       "        -2.08085049e-02, -3.11026163e-02,  4.96352836e-02, -5.94366575e-03,\n",
       "         8.63268599e-03, -3.82447653e-02,  1.76603172e-03, -4.44558356e-03,\n",
       "        -2.87076831e-02, -9.31576244e-04, -6.87069669e-02, -1.14820823e-02,\n",
       "        -3.82819511e-02,  3.12913992e-02, -8.96889158e-03,  5.45480363e-02,\n",
       "         1.14683453e-02,  1.71706658e-02,  1.03716753e-01, -7.79705048e-02,\n",
       "         4.48140837e-02, -7.76672438e-02, -2.91439798e-02,  1.77410711e-02,\n",
       "         3.99059840e-02,  2.31984872e-02,  7.02818707e-02, -1.02540385e-02,\n",
       "         1.30677894e-02, -4.31836359e-02,  3.88494730e-02, -3.86930928e-02,\n",
       "        -2.35856734e-02, -4.20496166e-02, -2.73759067e-02,  3.51420306e-02,\n",
       "         2.76697148e-02, -5.75955585e-02,  1.46047049e-03,  1.86618920e-02,\n",
       "        -4.21852730e-02,  1.97070790e-03, -3.49512435e-02,  2.67503038e-02,\n",
       "         5.41066052e-03,  1.56666897e-02,  5.01587838e-02,  6.16680495e-02,\n",
       "        -4.15919349e-02,  4.60385121e-02,  1.73476283e-02,  2.15609334e-02,\n",
       "         3.69496755e-02,  1.03462804e-02, -2.01721545e-02,  3.75642302e-03,\n",
       "         1.37446392e-02, -2.14832537e-02, -9.14912000e-02,  3.88612784e-02,\n",
       "         3.27947251e-02, -8.12441334e-02,  3.58658726e-03, -1.29030757e-02,\n",
       "        -1.93183944e-02,  5.00276051e-02, -1.15229338e-02, -9.52689070e-03,\n",
       "         2.55493876e-02, -1.83861554e-02, -3.94029133e-02, -7.52657801e-02,\n",
       "        -3.25307213e-02, -4.23079431e-02, -4.53467015e-03,  1.24411769e-02,\n",
       "        -9.09816567e-03,  3.29964943e-02,  3.82810459e-02,  1.24171405e-04,\n",
       "        -2.78402772e-02, -2.18137056e-02, -2.58041453e-02,  3.40907611e-02,\n",
       "         5.41644357e-02,  1.87524669e-02, -4.76605855e-02, -3.18660922e-02,\n",
       "        -2.52939425e-02,  3.70493308e-02,  6.39362484e-02, -3.12928595e-02,\n",
       "         8.43711942e-03, -5.55748935e-04, -6.14941753e-02, -6.88091144e-02,\n",
       "         4.59737815e-02, -6.33591926e-03,  2.65366007e-02,  5.75245731e-02,\n",
       "         1.92300007e-02,  3.52674425e-02,  4.45737615e-02, -1.70663521e-02,\n",
       "         2.49718856e-02, -1.52513823e-02, -4.87569869e-02,  3.01063918e-02,\n",
       "         8.41498300e-02, -7.55852461e-03,  5.55344224e-02,  5.82381152e-02,\n",
       "         1.43397758e-02,  1.50920050e-02,  7.98890665e-02,  3.34806405e-02,\n",
       "         5.10874502e-02, -1.40651343e-02,  1.75118893e-02,  1.14887087e-02,\n",
       "         1.38304597e-02,  3.35012488e-02, -6.63470710e-03,  1.03740934e-02,\n",
       "        -1.38805602e-02,  8.62862449e-03, -2.14226376e-02,  3.80198192e-03,\n",
       "         8.97130813e-04,  3.04570962e-02,  5.18347137e-02, -5.17346023e-04,\n",
       "        -1.76278818e-02, -7.11872010e-04,  3.54709886e-02,  3.88779072e-03,\n",
       "        -6.42485544e-03, -5.12221977e-02,  1.13359364e-02,  1.95607990e-02,\n",
       "         1.94582976e-02, -1.07519841e-02, -3.11771855e-02,  6.23706765e-02,\n",
       "        -5.70371561e-03,  3.01963277e-02,  2.19547674e-02, -2.80482862e-02,\n",
       "         2.85483133e-02, -2.33329833e-02,  4.97098267e-02, -1.41451908e-02,\n",
       "        -3.55807766e-02, -8.68108403e-03,  3.31160128e-02,  1.41609309e-03,\n",
       "        -7.08062351e-02,  2.30612941e-02, -1.48216251e-03, -3.39593776e-02,\n",
       "         2.02895943e-02, -2.49274913e-03, -5.37430570e-02,  2.28091460e-02,\n",
       "        -2.55130064e-02,  7.91571587e-02,  2.19050832e-02,  7.12321624e-02,\n",
       "         7.87619278e-02, -2.19907202e-02,  2.02532057e-02, -1.86294522e-02,\n",
       "        -1.43703790e-02,  1.27034122e-02,  3.14700305e-02,  1.83821805e-02,\n",
       "         1.01387119e-02, -9.22846701e-03, -4.98025045e-02,  4.12234031e-02,\n",
       "        -2.17266697e-02, -5.89597039e-02,  5.58112785e-02,  1.83259808e-02,\n",
       "        -2.15170644e-02,  1.17504584e-04,  1.13024190e-02,  1.36122573e-02,\n",
       "        -6.92903101e-02, -2.64591873e-02,  4.85683559e-03,  7.53956614e-03,\n",
       "         2.51836199e-02,  9.97507386e-03, -5.94638800e-03,  2.80135823e-03,\n",
       "        -2.31763981e-02,  2.35089734e-02, -1.89727545e-02, -8.77601374e-03,\n",
       "        -1.68828573e-02, -5.51510304e-02,  1.99600887e-02,  2.26414930e-02,\n",
       "         2.48684920e-02, -4.24510092e-02,  4.51681986e-02, -3.46943103e-02,\n",
       "         5.67754395e-02, -2.27103103e-02,  2.40772404e-02, -8.52718018e-03,\n",
       "         4.99883182e-02, -6.05568700e-02,  9.96132195e-03,  8.03653803e-03,\n",
       "         2.25295871e-02,  3.41246352e-02, -7.39750825e-03,  6.39019394e-03,\n",
       "         1.57546960e-02,  4.23613563e-03,  4.67457883e-02, -2.54258178e-02,\n",
       "        -1.77109968e-02, -1.59677826e-02, -3.88374057e-04,  2.19639135e-03,\n",
       "         6.14317954e-02,  1.01090567e-02, -5.76536031e-03,  1.24514997e-02,\n",
       "        -3.23230401e-02, -1.00601232e-03, -3.93297784e-02, -1.22492928e-02,\n",
       "         7.91790057e-03,  1.16057554e-02, -7.83107430e-03,  2.93548033e-03,\n",
       "         5.19382209e-03, -4.54298774e-04, -4.31182832e-02,  5.25295325e-02,\n",
       "         5.38435578e-03, -5.11879027e-02, -7.50454888e-02, -3.75451706e-02,\n",
       "        -1.95489097e-02,  8.17747787e-03, -1.94946988e-04,  2.77631488e-02,\n",
       "         4.81811771e-03,  5.95023073e-02, -2.76201814e-02,  1.21493451e-02,\n",
       "        -5.16560674e-02, -2.86527015e-02, -1.39377443e-02, -1.94459707e-02,\n",
       "        -3.56071629e-02, -3.14511321e-02, -3.15285102e-03,  4.97121289e-02,\n",
       "         4.46145572e-02,  5.33078611e-02, -5.35426736e-02, -1.20227067e-02,\n",
       "        -8.15284029e-02,  7.15108996e-04,  6.33012853e-04, -2.91433949e-02,\n",
       "        -6.00205921e-03, -3.77610475e-02, -1.15063526e-02,  4.43889387e-03,\n",
       "        -2.41616648e-03,  4.28294614e-02,  4.26186919e-02,  2.46331021e-02,\n",
       "         4.08523828e-02,  1.35852571e-03,  4.62414548e-02,  1.84876919e-02,\n",
       "        -3.31745343e-03, -1.17899328e-02, -7.02266023e-02, -8.05690810e-02,\n",
       "         6.39602244e-02,  2.66174208e-02, -1.22011043e-02,  1.72667159e-03,\n",
       "        -3.50731611e-02, -7.09487125e-02, -4.60674874e-02,  1.09953145e-02,\n",
       "         1.66340899e-02,  4.05784808e-02,  4.99354303e-02, -5.10350205e-02,\n",
       "        -1.97156649e-02,  6.21288493e-02, -2.99612731e-02,  6.23487169e-03,\n",
       "        -3.63266915e-02,  1.43623427e-02,  9.30425301e-02,  3.05971168e-02,\n",
       "         5.93688339e-03,  3.14788297e-02,  1.01729902e-02,  4.32055816e-02,\n",
       "         4.19439934e-02,  3.48590724e-02, -7.87243694e-02, -3.33925383e-03,\n",
       "         1.41601805e-02, -3.82456277e-03,  6.09276444e-03,  6.51190951e-02,\n",
       "        -2.19338713e-03,  1.63976718e-02,  1.65806580e-02,  1.20738214e-02,\n",
       "         3.17205070e-03, -4.39223312e-02, -2.07207743e-02,  3.28107215e-02,\n",
       "         6.46589696e-03, -1.83926802e-02,  8.33844692e-02, -1.38644809e-02,\n",
       "         2.55227485e-03,  4.07948568e-02, -3.08303181e-02,  1.37935393e-02,\n",
       "        -1.79142579e-02,  2.76623145e-02, -5.30696381e-03,  4.65788916e-02,\n",
       "         5.50055550e-03, -3.64014297e-04, -5.14167659e-02,  4.60389145e-02,\n",
       "         2.96418834e-02, -3.69406748e-03, -2.62864144e-03, -4.37091179e-02,\n",
       "         1.14318291e-02, -2.61309184e-02, -7.02939853e-02, -4.89438437e-02,\n",
       "        -8.95613246e-03, -6.85935616e-02,  7.00708758e-03, -2.92512425e-03,\n",
       "        -3.71178985e-02, -1.81352124e-02,  2.15114448e-02, -3.78458463e-02,\n",
       "        -3.16531286e-02,  2.49978097e-04, -1.35045173e-02,  1.13761248e-02,\n",
       "        -3.72024602e-03,  7.56245852e-03, -2.53043845e-02, -3.99009176e-02,\n",
       "        -5.02327196e-02, -3.76254134e-02,  1.64655298e-02, -4.00232859e-02,\n",
       "         1.08141163e-02,  8.80806893e-03,  4.81359288e-02, -1.92374196e-02,\n",
       "         6.98282756e-03,  9.07143578e-03, -2.42352355e-02,  1.43719306e-02,\n",
       "        -4.51340117e-02, -5.46137989e-02,  1.54177686e-02, -7.04598203e-02,\n",
       "         3.61269452e-02, -4.41302620e-02,  1.47267543e-02, -3.94880325e-02,\n",
       "        -3.15497965e-02,  3.06033418e-02,  1.88587159e-02,  6.20117411e-02,\n",
       "        -1.84991919e-02, -4.99248616e-02, -4.98962449e-03, -1.72695182e-02,\n",
       "        -3.10940444e-02,  4.34268415e-02,  2.90379319e-02,  1.01620180e-03,\n",
       "         2.97744516e-02,  4.16760109e-02, -6.31476268e-02, -2.27117520e-02,\n",
       "        -5.78304790e-02, -3.70443538e-02,  2.57904697e-02, -3.92317176e-02,\n",
       "        -3.41192372e-02,  1.62899457e-02,  9.80664641e-02,  5.44515736e-02,\n",
       "         2.49658525e-02,  1.21476210e-03, -2.01752409e-02, -1.59823876e-02,\n",
       "         5.58456825e-03, -2.60335077e-02, -2.35546902e-02,  3.76790836e-02,\n",
       "        -5.68896979e-02,  7.29828402e-02,  1.67373717e-02, -9.82352048e-02,\n",
       "         9.10856575e-02, -2.95038940e-03,  9.58241522e-03, -4.11973223e-02,\n",
       "        -9.97212529e-03, -3.39022875e-02,  4.79121059e-02, -3.61143751e-03,\n",
       "         1.68155935e-02, -4.80759032e-02, -3.26520205e-03, -2.92488690e-02,\n",
       "        -2.93716863e-02, -3.51759046e-02,  4.37194221e-02, -8.19777790e-03,\n",
       "        -6.82736337e-02,  3.58738229e-02,  3.66120711e-02,  1.79724786e-02,\n",
       "         2.83978209e-02,  9.54729877e-03, -1.03139160e-02,  6.51496053e-02,\n",
       "         1.87120475e-02,  4.05369280e-03, -2.56668702e-02, -4.50835600e-02,\n",
       "        -3.16783041e-02,  1.70137398e-02,  2.69287806e-02, -1.55371036e-02,\n",
       "        -6.34984998e-03,  2.02567261e-02, -4.83849645e-02,  4.11091931e-03,\n",
       "        -7.75782333e-04, -2.37116311e-03,  2.05615927e-02, -2.32535601e-02,\n",
       "        -1.04728583e-02,  4.16378602e-02, -1.93198994e-02, -1.94188897e-02,\n",
       "        -2.42213011e-02,  4.21438701e-02,  3.28202918e-02, -3.21714059e-02,\n",
       "        -4.19723615e-02,  5.93347922e-02,  3.93215120e-02,  7.59618217e-03,\n",
       "        -3.36648052e-04,  1.33427586e-02,  1.96563303e-02, -2.86431285e-03,\n",
       "         9.65924654e-03, -3.52975763e-02,  6.55610953e-03, -2.08579842e-02,\n",
       "         2.26861313e-02,  7.99290370e-03, -4.27016616e-02, -3.52411456e-02,\n",
       "        -4.39404808e-02,  4.49556112e-02,  1.07855164e-02, -2.31659487e-02],\n",
       "       dtype=float32)}"
      ]
     },
     "execution_count": 25,
     "metadata": {},
     "output_type": "execute_result"
    }
   ],
   "source": [
    "filter_doc[1]"
   ]
  },
  {
   "cell_type": "code",
   "execution_count": 26,
   "id": "9877425a-c147-41f6-9787-c03fcecfd550",
   "metadata": {},
   "outputs": [
    {
     "data": {
      "text/plain": [
       "ObjectApiResponse({'acknowledged': True, 'shards_acknowledged': True, 'index': 'course-questions'})"
      ]
     },
     "execution_count": 26,
     "metadata": {},
     "output_type": "execute_result"
    }
   ],
   "source": [
    "from elasticsearch import Elasticsearch\n",
    "\n",
    "es_client = Elasticsearch('http://localhost:9200') \n",
    "\n",
    "index_settings = {\n",
    "    \"settings\": {\n",
    "        \"number_of_shards\": 1,\n",
    "        \"number_of_replicas\": 0\n",
    "    },\n",
    "    \"mappings\": {\n",
    "        \"properties\": {\n",
    "            \"text\": {\"type\": \"text\"},\n",
    "            \"section\": {\"type\": \"text\"},\n",
    "            \"question\": {\"type\": \"text\"},\n",
    "            \"course\": {\"type\": \"keyword\"},\n",
    "            \"id\": {\"type\": \"keyword\"},\n",
    "            \"question_text_vector\": {\n",
    "                \"type\": \"dense_vector\",\n",
    "                \"dims\": 768,\n",
    "                \"index\": True,\n",
    "                \"similarity\": \"cosine\"\n",
    "            },\n",
    "        }\n",
    "    }\n",
    "}\n",
    "\n",
    "index_name = \"course-questions\"\n",
    "\n",
    "es_client.indices.delete(index=index_name, ignore_unavailable=True)\n",
    "es_client.indices.create(index=index_name, body=index_settings)"
   ]
  },
  {
   "cell_type": "markdown",
   "id": "ab4ad324-cc7f-4642-9a0b-52718b57e146",
   "metadata": {},
   "source": [
    "```index doc and embeddings with elasticSearch```"
   ]
  },
  {
   "cell_type": "code",
   "execution_count": 27,
   "id": "f39493be-24ee-4522-a653-9ab6c36bcd3c",
   "metadata": {},
   "outputs": [
    {
     "name": "stderr",
     "output_type": "stream",
     "text": [
      "100%|██████████████████████████████████████████████████████████████████████| 375/375 [00:08<00:00, 45.79it/s]\n"
     ]
    }
   ],
   "source": [
    "for doc in tqdm(filter_doc):\n",
    "    es_client.index(index=index_name, document=doc)"
   ]
  },
  {
   "cell_type": "code",
   "execution_count": 40,
   "id": "8c82be4a-6e00-4df6-a8dd-b4443a72a1f6",
   "metadata": {},
   "outputs": [],
   "source": [
    "def elastic_search_knn(field, vector, course):\n",
    "    knn = {\n",
    "        \"field\": field,\n",
    "        \"query_vector\": vector,\n",
    "        \"k\": 5,\n",
    "        \"num_candidates\": 10000,\n",
    "        \"filter\": {\n",
    "            \"term\": {\n",
    "                \"course\": course\n",
    "            }\n",
    "        }\n",
    "    }\n",
    "\n",
    "    search_query = {\n",
    "        \"knn\": knn,\n",
    "        \"_source\": [\"text\", \"section\", \"question\", \"course\", \"id\"]\n",
    "    }\n",
    "\n",
    "    es_results = es_client.search(\n",
    "        index=index_name,\n",
    "        body=search_query\n",
    "    )\n",
    "    \n",
    "    result_docs = []\n",
    "    \n",
    "    for hit in es_results['hits']['hits']:\n",
    "        result_docs.append(hit['_source'])\n",
    "\n",
    "    return result_docs"
   ]
  },
  {
   "cell_type": "code",
   "execution_count": 41,
   "id": "8747cff3-25de-49a1-9e42-05f99e11b6ec",
   "metadata": {},
   "outputs": [],
   "source": [
    "res = elastic_search_knn('question_text_vector', v, 'machine-learning-zoomcamp')"
   ]
  },
  {
   "cell_type": "code",
   "execution_count": 42,
   "id": "8a275736-1a05-45eb-a976-2841493152df",
   "metadata": {},
   "outputs": [
    {
     "data": {
      "text/plain": [
       "[{'question': 'The course has already started. Can I still join it?',\n",
       "  'course': 'machine-learning-zoomcamp',\n",
       "  'section': 'General course-related questions',\n",
       "  'text': 'Yes, you can. You won’t be able to submit some of the homeworks, but you can still take part in the course.\\nIn order to get a certificate, you need to submit 2 out of 3 course projects and review 3 peers’ Projects by the deadline. It means that if you join the course at the end of November and manage to work on two projects, you will still be eligible for a certificate.',\n",
       "  'id': 'ee58a693'},\n",
       " {'question': 'I just joined. What should I do next? How can I access course materials?',\n",
       "  'course': 'machine-learning-zoomcamp',\n",
       "  'section': 'General course-related questions',\n",
       "  'text': 'Welcome to the course! Go to the course page (http://mlzoomcamp.com/), scroll down and start going through the course materials. Then read everything in the cohort folder for your cohort’s year.\\nClick on the links and start watching the videos. Also watch office hours from previous cohorts. Go to DTC youtube channel and click on Playlists and search for {course yyyy}. ML Zoomcamp was first launched in 2021.\\nOr you can just use this link: http://mlzoomcamp.com/#syllabus',\n",
       "  'id': '0a278fb2'},\n",
       " {'question': \"I filled the form, but haven't received a confirmation email. Is it normal?\",\n",
       "  'course': 'machine-learning-zoomcamp',\n",
       "  'section': 'General course-related questions',\n",
       "  'text': \"The process is automated now, so you should receive the email eventually. If you haven’t, check your promotions tab in Gmail as well as spam.\\nIf you unsubscribed from our newsletter, you won't get course related updates too.\\nBut don't worry, it’s not a problem. To make sure you don’t miss anything, join the #course-ml-zoomcamp channel in Slack and our telegram channel with announcements. This is enough to follow the course.\",\n",
       "  'id': '6ba259b1'},\n",
       " {'question': 'Can I do the course in other languages, like R or Scala?',\n",
       "  'course': 'machine-learning-zoomcamp',\n",
       "  'section': 'Miscellaneous',\n",
       "  'text': 'Technically, yes. Advisable? Not really. Reasons:\\nSome homework(s) asks for specific python library versions.\\nAnswers may not match in MCQ options if using different languages other than Python 3.10 (the recommended version for 2023 cohort)\\nAnd as for midterms/capstones, your peer-reviewers may not know these other languages. Do you want to be penalized for others not knowing these other languages?\\nYou can create a separate repo using course’s lessons but written in other languages for your own learnings, but not advisable for submissions.\\ntx[source]',\n",
       "  'id': '9f261648'},\n",
       " {'question': 'The course videos are from the previous iteration. Will you release new ones or we’ll use the videos from 2021?',\n",
       "  'course': 'machine-learning-zoomcamp',\n",
       "  'section': 'General course-related questions',\n",
       "  'text': 'We won’t re-record the course videos. The focus of the course and the skills we want to teach remained the same, and the videos are still up-to-date.\\nIf you haven’t taken part in the previous iteration, you can start watching the videos. It’ll be useful for you and you will learn new things. However, we recommend using Python 3.10 now instead of Python 3.8.',\n",
       "  'id': 'e7ba6b8a'}]"
      ]
     },
     "execution_count": 42,
     "metadata": {},
     "output_type": "execute_result"
    }
   ],
   "source": [
    "res"
   ]
  },
  {
   "cell_type": "markdown",
   "id": "cec9a1d4-08b1-44a6-85d0-40dc24f491aa",
   "metadata": {},
   "source": [
    "### Answer:\n",
    "- ee58a693"
   ]
  },
  {
   "cell_type": "markdown",
   "id": "dfdcb3f5-b475-4aa2-9a94-0a1598e38307",
   "metadata": {},
   "source": [
    "## Q6. Hit-rate for Elasticsearch\n",
    "\n",
    "The search engine we used in Q4 computed the similarity between the query and ALL the vectors in our database. Usually this is not practical, as we may have a lot of data.\n",
    "\n",
    "Elasticsearch uses approximate techniques to make it faster.\n",
    "\n",
    "Let's evaluate how worse the results are when we switch from exact search (as in Q4) to approximate search with Elastic.\n",
    "\n",
    "What's hitrate for our dataset for Elastic?\n",
    "\n",
    "- 0.93\n",
    "- 0.73\n",
    "- 0.53\n",
    "- 0.33"
   ]
  },
  {
   "cell_type": "code",
   "execution_count": 32,
   "id": "bb8819b3-3ca4-4ef1-8228-ae66441bbf6a",
   "metadata": {},
   "outputs": [
    {
     "data": {
      "text/plain": [
       "{'question': 'Can you provide a link to sign up?',\n",
       " 'course': 'machine-learning-zoomcamp',\n",
       " 'document': '0227b872'}"
      ]
     },
     "execution_count": 32,
     "metadata": {},
     "output_type": "execute_result"
    }
   ],
   "source": [
    "ground_truth[1]"
   ]
  },
  {
   "cell_type": "markdown",
   "id": "f5707712-0713-406f-8fe6-bcff1c9c0e24",
   "metadata": {},
   "source": [
    "```MRR and HitRate functions```"
   ]
  },
  {
   "cell_type": "code",
   "execution_count": 43,
   "id": "7f5692cb-bda4-43b3-89de-fa254b3b7902",
   "metadata": {},
   "outputs": [],
   "source": [
    "def hit_rate(relevance_total):\n",
    "    cnt = 0\n",
    "    for line in relevance_total:\n",
    "        if True in line:\n",
    "            cnt = cnt + 1\n",
    "    return cnt / len(relevance_total)\n",
    "\n",
    "def mrr(relevance_total):\n",
    "    mrr_total = 0\n",
    "    for line in relevance_total:\n",
    "        for rank, is_relevant in enumerate(line, start=1):\n",
    "            if is_relevant:\n",
    "                mrr_total += 1 / rank\n",
    "                break\n",
    "    return mrr_total / len(relevance_total)"
   ]
  },
  {
   "cell_type": "code",
   "execution_count": 44,
   "id": "d3c09231-6c11-4680-8970-04b29958d197",
   "metadata": {},
   "outputs": [],
   "source": [
    "def evaluate(ground_truth, search_function):\n",
    "    relevance_total = []\n",
    "\n",
    "    for q in tqdm(ground_truth):\n",
    "        doc_id = q['document']\n",
    "        results = search_function(q)\n",
    "        relevance = [d['id'] == doc_id for d in results]\n",
    "        relevance_total.append(relevance)\n",
    "\n",
    "    return {\n",
    "        'hit_rate': hit_rate(relevance_total),\n",
    "        'mrr': mrr(relevance_total),\n",
    "    }"
   ]
  },
  {
   "cell_type": "code",
   "execution_count": 47,
   "id": "4e0ac33a-58db-45a0-867d-fa80af5cf0d4",
   "metadata": {},
   "outputs": [],
   "source": [
    "def question_vector_knn(q):\n",
    "    question = q['question']\n",
    "    course = q['course']\n",
    "\n",
    "    v_q = model.encode(question)\n",
    "\n",
    "    return elastic_search_knn('question_text_vector', v_q, 'machine-learning-zoomcamp')"
   ]
  },
  {
   "cell_type": "code",
   "execution_count": 48,
   "id": "f76230a3-0172-4779-b0a5-b914fd0ac042",
   "metadata": {},
   "outputs": [
    {
     "name": "stderr",
     "output_type": "stream",
     "text": [
      "100%|████████████████████████████████████████████████████████████████████| 1830/1830 [01:26<00:00, 21.19it/s]\n"
     ]
    },
    {
     "data": {
      "text/plain": [
       "{'hit_rate': 0.9398907103825137, 'mrr': 0.8502823315118397}"
      ]
     },
     "execution_count": 48,
     "metadata": {},
     "output_type": "execute_result"
    }
   ],
   "source": [
    "evaluate(ground_truth, question_vector_knn)"
   ]
  },
  {
   "cell_type": "markdown",
   "id": "7073fbb3-905f-45d9-8a4e-95008973b43a",
   "metadata": {},
   "source": [
    "### Answer:\n",
    "- 0.93"
   ]
  }
 ],
 "metadata": {
  "kernelspec": {
   "display_name": "Python 3 (ipykernel)",
   "language": "python",
   "name": "python3"
  },
  "language_info": {
   "codemirror_mode": {
    "name": "ipython",
    "version": 3
   },
   "file_extension": ".py",
   "mimetype": "text/x-python",
   "name": "python",
   "nbconvert_exporter": "python",
   "pygments_lexer": "ipython3",
   "version": "3.10.13"
  }
 },
 "nbformat": 4,
 "nbformat_minor": 5
}
