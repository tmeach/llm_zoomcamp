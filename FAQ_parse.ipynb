{
 "cells": [
  {
   "cell_type": "code",
   "execution_count": 3,
   "id": "e99271e2-f9df-4510-b22e-4da64d10af4c",
   "metadata": {},
   "outputs": [],
   "source": [
    "file_id = '19bnYs80DwuUimHM65UV3sylsCn2j1vziPOwzBwQrebw'\n",
    "\n",
    "url = f'https://docs.google.com/document/d/{file_id}/export?format=docx'"
   ]
  },
  {
   "cell_type": "code",
   "execution_count": 1,
   "id": "4c716bfe-af19-4eeb-a4cf-6e57fe062e09",
   "metadata": {},
   "outputs": [],
   "source": [
    "import requests\n",
    "import io\n",
    "import docx"
   ]
  },
  {
   "cell_type": "code",
   "execution_count": 4,
   "id": "35feecde-28ca-49df-9c42-b70bd7235f01",
   "metadata": {},
   "outputs": [],
   "source": [
    "response = requests.get(url)\n",
    "response.raise_for_status\n",
    "\n",
    "with io.BytesIO(response.content) as f_in:\n",
    "    doc = docx.Document(f_in)"
   ]
  },
  {
   "cell_type": "code",
   "execution_count": 5,
   "id": "073b4e1b-1607-4173-90ef-2480c9c06a8b",
   "metadata": {},
   "outputs": [
    {
     "data": {
      "text/plain": [
       "<docx.document.Document at 0x77ac9c6668f0>"
      ]
     },
     "execution_count": 5,
     "metadata": {},
     "output_type": "execute_result"
    }
   ],
   "source": [
    "doc"
   ]
  },
  {
   "cell_type": "markdown",
   "id": "05bc7557-eec8-46ff-bb79-ceec11368b16",
   "metadata": {},
   "source": [
    "```We can take paragraphs via lines from our docs file```"
   ]
  },
  {
   "cell_type": "code",
   "execution_count": 6,
   "id": "d1cf721c-b458-4178-8d82-e31b2f211e7d",
   "metadata": {},
   "outputs": [
    {
     "data": {
      "text/plain": [
       "<docx.text.paragraph.Paragraph at 0x77acac283760>"
      ]
     },
     "execution_count": 6,
     "metadata": {},
     "output_type": "execute_result"
    }
   ],
   "source": [
    "doc.paragraphs[0]"
   ]
  },
  {
   "cell_type": "markdown",
   "id": "1c82c8e5-01cc-4c7e-910a-8de491434b8f",
   "metadata": {},
   "source": [
    "```Convert it to text format```"
   ]
  },
  {
   "cell_type": "code",
   "execution_count": 7,
   "id": "94df8e65-db80-4714-bdfd-12629fe19297",
   "metadata": {},
   "outputs": [
    {
     "data": {
      "text/plain": [
       "'The purpose of this document is to capture frequently asked technical questions'"
      ]
     },
     "execution_count": 7,
     "metadata": {},
     "output_type": "execute_result"
    }
   ],
   "source": [
    "p = doc.paragraphs[0]\n",
    "\n",
    "p.text"
   ]
  },
  {
   "cell_type": "code",
   "execution_count": 8,
   "id": "87753d6f-bb41-40f5-a138-795ea8fac102",
   "metadata": {},
   "outputs": [
    {
     "data": {
      "text/plain": [
       "'Join the course Telegram channel with announcements.'"
      ]
     },
     "execution_count": 8,
     "metadata": {},
     "output_type": "execute_result"
    }
   ],
   "source": [
    "p = doc.paragraphs[5]\n",
    "\n",
    "p.text"
   ]
  },
  {
   "cell_type": "markdown",
   "id": "8f717ce0-159f-46f0-80e7-f7e7e5e4090d",
   "metadata": {},
   "source": [
    "```Also we can find out which type of line we get by check it with commands style. For example we have several types of lines: normal (casual text), Heading 2 (sub section), Heading (section name). By defining type of text we can parse it to format: 'course_name' - 'question' - 'answer'```"
   ]
  },
  {
   "cell_type": "code",
   "execution_count": 15,
   "id": "0ec4299b-da58-413c-97d8-616dc5fe3ca9",
   "metadata": {},
   "outputs": [
    {
     "data": {
      "text/plain": [
       "('General course-related questions',\n",
       " _ParagraphStyle('Heading 1') id: 131582891203008)"
      ]
     },
     "execution_count": 15,
     "metadata": {},
     "output_type": "execute_result"
    }
   ],
   "source": [
    "p = doc.paragraphs[1]\n",
    "\n",
    "p.text, p.style"
   ]
  },
  {
   "cell_type": "code",
   "execution_count": 16,
   "id": "32a3f8d1-f092-40f1-ad4e-1e3f52176b6a",
   "metadata": {},
   "outputs": [
    {
     "data": {
      "text/plain": [
       "'heading 1'"
      ]
     },
     "execution_count": 16,
     "metadata": {},
     "output_type": "execute_result"
    }
   ],
   "source": [
    "p.style.name.lower()"
   ]
  },
  {
   "cell_type": "markdown",
   "id": "5a02bd00-51cf-4a7b-80aa-571b080f040b",
   "metadata": {},
   "source": [
    "```set text type style```"
   ]
  },
  {
   "cell_type": "code",
   "execution_count": 17,
   "id": "344bb780-0de2-4254-86e7-5d2029d9a762",
   "metadata": {},
   "outputs": [],
   "source": [
    "question_heading_style = 'heading 2'\n",
    "section_heading_style = 'heading 1'"
   ]
  },
  {
   "cell_type": "code",
   "execution_count": null,
   "id": "770bfb29-cc8f-44a0-b9e3-2633d58acf36",
   "metadata": {},
   "outputs": [],
   "source": []
  },
  {
   "cell_type": "code",
   "execution_count": 19,
   "id": "b2b955b8-bae7-43a4-abe0-4e1cc553181e",
   "metadata": {},
   "outputs": [],
   "source": [
    "documents = []\n",
    "\n",
    "current_answer = []\n",
    "current_section = ''\n",
    "current_question = ''\n",
    "\n",
    "\n",
    "for p in doc.paragraphs:\n",
    "    p_text = p.text.strip() # in order to delete whitespaces\n",
    "    p_style = p.style.name.lower()\n",
    "\n",
    "    if p_text == '':\n",
    "        continue\n",
    "\n",
    "    if p_style == section_heading_style:\n",
    "        current_section = p.text\n",
    "        current_answer = []\n",
    "        continue \n",
    "\n",
    "    if p_style == question_heading_style:\n",
    "        if current_section and current_question and current_answer:\n",
    "            answer = '\\n'.join(current_answer)\n",
    "    \n",
    "            documents.append({\n",
    "                'section': current_section,\n",
    "                'question': current_question,\n",
    "                'text': answer\n",
    "            })\n",
    "    \n",
    "        current_question = p_text\n",
    "        current_answer = []\n",
    "        continue\n",
    "\n",
    "    current_answer.append(p_text)\n",
    "\n",
    "\n",
    "if current_answer:\n",
    "    answer = '\\n'.join(current_answer)\n",
    "\n",
    "    documents.append({\n",
    "        'section': current_section,\n",
    "        'question': current_question,\n",
    "        'text': answer\n",
    "    })"
   ]
  },
  {
   "cell_type": "code",
   "execution_count": 20,
   "id": "002122be-fef9-4ac7-a780-6c0ba9cfe770",
   "metadata": {},
   "outputs": [
    {
     "data": {
      "text/plain": [
       "{'section': 'General course-related questions',\n",
       " 'question': 'Course - When will the course start？',\n",
       " 'text': \"The next cohort starts in Jan 2025. More info at DTC Article.\\nRegister before the course starts using this link.\\nJoin the course Telegram channel with announcements.\\nDon’t forget to register in DataTalks.Club's Slack and join the channel.\"}"
      ]
     },
     "execution_count": 20,
     "metadata": {},
     "output_type": "execute_result"
    }
   ],
   "source": [
    "documents[0]"
   ]
  },
  {
   "cell_type": "code",
   "execution_count": 21,
   "id": "35282e39-3b35-4d32-a06e-4807fb25c202",
   "metadata": {},
   "outputs": [
    {
     "data": {
      "text/plain": [
       "{'section': 'General course-related questions',\n",
       " 'question': 'Course - Can I still join the course after the start date?',\n",
       " 'text': \"Yes, even if you don't register, you're still eligible to submit the homeworks.\\nBe aware, however, that there will be deadlines for turning in the final projects. So don't leave everything for the last minute.\"}"
      ]
     },
     "execution_count": 21,
     "metadata": {},
     "output_type": "execute_result"
    }
   ],
   "source": [
    "documents[2]"
   ]
  },
  {
   "cell_type": "code",
   "execution_count": null,
   "id": "37285655-826a-4703-9f32-036fb93a774a",
   "metadata": {},
   "outputs": [],
   "source": []
  },
  {
   "cell_type": "code",
   "execution_count": null,
   "id": "241daf23-c8c3-4c5f-80d5-a37363bbd06e",
   "metadata": {},
   "outputs": [],
   "source": []
  },
  {
   "cell_type": "code",
   "execution_count": null,
   "id": "fcadebd5-c74f-432c-8e56-9b3d710ac60d",
   "metadata": {},
   "outputs": [],
   "source": []
  },
  {
   "cell_type": "code",
   "execution_count": null,
   "id": "c20beacc-16d6-460c-96b0-b1a4352e298f",
   "metadata": {},
   "outputs": [],
   "source": []
  },
  {
   "cell_type": "code",
   "execution_count": null,
   "id": "37020b30-368a-44df-8749-967f12d840fe",
   "metadata": {},
   "outputs": [],
   "source": []
  },
  {
   "cell_type": "code",
   "execution_count": null,
   "id": "aa0c138c-c5bd-4a45-9ca4-825958926209",
   "metadata": {},
   "outputs": [],
   "source": []
  },
  {
   "cell_type": "code",
   "execution_count": null,
   "id": "7f91af9a-14be-4f20-81d9-ccb761448a5d",
   "metadata": {},
   "outputs": [],
   "source": []
  },
  {
   "cell_type": "code",
   "execution_count": null,
   "id": "f03a038f-0897-4450-9c4a-9bf923d38173",
   "metadata": {},
   "outputs": [],
   "source": []
  }
 ],
 "metadata": {
  "kernelspec": {
   "display_name": "Python 3 (ipykernel)",
   "language": "python",
   "name": "python3"
  },
  "language_info": {
   "codemirror_mode": {
    "name": "ipython",
    "version": 3
   },
   "file_extension": ".py",
   "mimetype": "text/x-python",
   "name": "python",
   "nbconvert_exporter": "python",
   "pygments_lexer": "ipython3",
   "version": "3.10.13"
  }
 },
 "nbformat": 4,
 "nbformat_minor": 5
}
