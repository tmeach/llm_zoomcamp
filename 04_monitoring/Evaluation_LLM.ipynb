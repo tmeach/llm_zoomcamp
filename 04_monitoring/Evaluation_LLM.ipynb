{
 "cells": [
  {
   "cell_type": "markdown",
   "id": "dc62875a-0b14-4656-a70c-6c6337ef1c9c",
   "metadata": {},
   "source": [
    "## Homework: Evaluation and Monitoring\n",
    "\n",
    "In this homework, we'll evaluate the quality of our RAG system."
   ]
  },
  {
   "cell_type": "markdown",
   "id": "8ce7becc-5418-402f-8ea6-a91c5c3967c5",
   "metadata": {},
   "source": [
    "## Getting the data\n",
    "Let's start by getting the dataset. We will use the data we generated in the module.\n",
    "\n",
    "In particular, we'll evaluate the quality of our RAG system with gpt-4o-mini\n",
    "\n",
    "Read it:"
   ]
  },
  {
   "cell_type": "code",
   "execution_count": 58,
   "id": "1a03eeec-efdb-4823-8310-72096a0a4fbe",
   "metadata": {},
   "outputs": [],
   "source": [
    "import pandas as pd\n",
    "from tqdm import tqdm"
   ]
  },
  {
   "cell_type": "code",
   "execution_count": 3,
   "id": "28204776-2bbc-4515-b87d-c6443513597f",
   "metadata": {},
   "outputs": [],
   "source": [
    "github_url = 'https://raw.githubusercontent.com/DataTalksClub/llm-zoomcamp/main/04-monitoring/data/results-gpt4o-mini.csv'\n",
    "url = f'{github_url}?raw=1'\n",
    "df = pd.read_csv(url)"
   ]
  },
  {
   "cell_type": "code",
   "execution_count": 10,
   "id": "cabc2676-5e16-494f-b199-30538959241e",
   "metadata": {},
   "outputs": [
    {
     "data": {
      "text/html": [
       "<div>\n",
       "<style scoped>\n",
       "    .dataframe tbody tr th:only-of-type {\n",
       "        vertical-align: middle;\n",
       "    }\n",
       "\n",
       "    .dataframe tbody tr th {\n",
       "        vertical-align: top;\n",
       "    }\n",
       "\n",
       "    .dataframe thead th {\n",
       "        text-align: right;\n",
       "    }\n",
       "</style>\n",
       "<table border=\"1\" class=\"dataframe\">\n",
       "  <thead>\n",
       "    <tr style=\"text-align: right;\">\n",
       "      <th></th>\n",
       "      <th>answer_llm</th>\n",
       "      <th>answer_orig</th>\n",
       "      <th>document</th>\n",
       "      <th>question</th>\n",
       "      <th>course</th>\n",
       "    </tr>\n",
       "  </thead>\n",
       "  <tbody>\n",
       "    <tr>\n",
       "      <th>18</th>\n",
       "      <td>To find more about the theoretical topics not ...</td>\n",
       "      <td>The bare minimum. The focus is more on practic...</td>\n",
       "      <td>ecca790c</td>\n",
       "      <td>Where can I find more about the theoretical to...</td>\n",
       "      <td>machine-learning-zoomcamp</td>\n",
       "    </tr>\n",
       "    <tr>\n",
       "      <th>1727</th>\n",
       "      <td>The server receives data in JSON format becaus...</td>\n",
       "      <td>Problem happens when contacting the server wai...</td>\n",
       "      <td>cc60f7bc</td>\n",
       "      <td>Why does the server receive data in JSON forma...</td>\n",
       "      <td>machine-learning-zoomcamp</td>\n",
       "    </tr>\n",
       "    <tr>\n",
       "      <th>787</th>\n",
       "      <td>To see the version of an installed Python pack...</td>\n",
       "      <td>Import waitress\\nprint(waitress.__version__)\\n...</td>\n",
       "      <td>7156679d</td>\n",
       "      <td>What code should I run in Jupyter to see the v...</td>\n",
       "      <td>machine-learning-zoomcamp</td>\n",
       "    </tr>\n",
       "    <tr>\n",
       "      <th>1620</th>\n",
       "      <td>To calculate your email hash for project evalu...</td>\n",
       "      <td>I am not sure how the project evaluate assignm...</td>\n",
       "      <td>37eab341</td>\n",
       "      <td>What specific steps should I follow to calcula...</td>\n",
       "      <td>machine-learning-zoomcamp</td>\n",
       "    </tr>\n",
       "    <tr>\n",
       "      <th>143</th>\n",
       "      <td>In the homework, X.dot(Y) is not necessarily e...</td>\n",
       "      <td>I'm trying to invert the matrix but I got erro...</td>\n",
       "      <td>54ec0de4</td>\n",
       "      <td>In the homework, why is X.dot(Y) not necessari...</td>\n",
       "      <td>machine-learning-zoomcamp</td>\n",
       "    </tr>\n",
       "  </tbody>\n",
       "</table>\n",
       "</div>"
      ],
      "text/plain": [
       "                                             answer_llm  \\\n",
       "18    To find more about the theoretical topics not ...   \n",
       "1727  The server receives data in JSON format becaus...   \n",
       "787   To see the version of an installed Python pack...   \n",
       "1620  To calculate your email hash for project evalu...   \n",
       "143   In the homework, X.dot(Y) is not necessarily e...   \n",
       "\n",
       "                                            answer_orig  document  \\\n",
       "18    The bare minimum. The focus is more on practic...  ecca790c   \n",
       "1727  Problem happens when contacting the server wai...  cc60f7bc   \n",
       "787   Import waitress\\nprint(waitress.__version__)\\n...  7156679d   \n",
       "1620  I am not sure how the project evaluate assignm...  37eab341   \n",
       "143   I'm trying to invert the matrix but I got erro...  54ec0de4   \n",
       "\n",
       "                                               question  \\\n",
       "18    Where can I find more about the theoretical to...   \n",
       "1727  Why does the server receive data in JSON forma...   \n",
       "787   What code should I run in Jupyter to see the v...   \n",
       "1620  What specific steps should I follow to calcula...   \n",
       "143   In the homework, why is X.dot(Y) not necessari...   \n",
       "\n",
       "                         course  \n",
       "18    machine-learning-zoomcamp  \n",
       "1727  machine-learning-zoomcamp  \n",
       "787   machine-learning-zoomcamp  \n",
       "1620  machine-learning-zoomcamp  \n",
       "143   machine-learning-zoomcamp  "
      ]
     },
     "execution_count": 10,
     "metadata": {},
     "output_type": "execute_result"
    }
   ],
   "source": [
    "df.sample(5)"
   ]
  },
  {
   "cell_type": "markdown",
   "id": "efc5f3fe-2ead-463a-9c5b-22d74f06e120",
   "metadata": {},
   "source": [
    "We will use only the first 300 documents:"
   ]
  },
  {
   "cell_type": "code",
   "execution_count": 13,
   "id": "d7bdd42a-be27-40ea-b6bd-714377718d42",
   "metadata": {},
   "outputs": [],
   "source": [
    "df = df.iloc[:300]"
   ]
  },
  {
   "cell_type": "markdown",
   "id": "66ea3c30-dff6-450d-a17f-f0eabf94fc5b",
   "metadata": {},
   "source": [
    "## Q1. Getting the embeddings model\n",
    "Now, get the embeddings model ```multi-qa-mpnet-base-dot-v1``` from the [Sentence Transformer library](https://www.sbert.net/docs/sentence_transformer/pretrained_models.html#model-overview)"
   ]
  },
  {
   "cell_type": "code",
   "execution_count": 14,
   "id": "b7d4b223-6e60-41c6-ac39-f13dbf3d70fb",
   "metadata": {},
   "outputs": [
    {
     "name": "stderr",
     "output_type": "stream",
     "text": [
      "/usr/local/python/3.10.13/lib/python3.10/site-packages/tqdm/auto.py:21: TqdmWarning: IProgress not found. Please update jupyter and ipywidgets. See https://ipywidgets.readthedocs.io/en/stable/user_install.html\n",
      "  from .autonotebook import tqdm as notebook_tqdm\n",
      "You try to use a model that was created with version 3.0.0.dev0, however, your version is 2.7.0. This might cause unexpected behavior or errors. In that case, try to update to the latest version.\n",
      "\n",
      "\n",
      "\n"
     ]
    }
   ],
   "source": [
    "from sentence_transformers import SentenceTransformer\n",
    "\n",
    "model_name = 'multi-qa-mpnet-base-dot-v1'\n",
    "embedding_model = SentenceTransformer(model_name)"
   ]
  },
  {
   "cell_type": "markdown",
   "id": "d1ef15be-c6aa-413e-bd13-ae924bbb0543",
   "metadata": {},
   "source": [
    "Create the embeddings for the first LLM answer:"
   ]
  },
  {
   "cell_type": "code",
   "execution_count": 17,
   "id": "6ed3d15e-21a8-4122-b017-2170a764de24",
   "metadata": {},
   "outputs": [
    {
     "data": {
      "text/plain": [
       "0    You can sign up for the course by visiting the...\n",
       "1    You can sign up using the link provided in the...\n",
       "2    Yes, there is an FAQ for the Machine Learning ...\n",
       "3    The context does not provide any specific info...\n",
       "Name: answer_llm, dtype: object"
      ]
     },
     "execution_count": 17,
     "metadata": {},
     "output_type": "execute_result"
    }
   ],
   "source": [
    "df.iloc[:4].answer_llm"
   ]
  },
  {
   "cell_type": "code",
   "execution_count": 18,
   "id": "d1d63a81-211c-4cb4-b55a-baeee70e375f",
   "metadata": {},
   "outputs": [
    {
     "data": {
      "text/plain": [
       "'You can sign up for the course by visiting the course page at [http://mlzoomcamp.com/](http://mlzoomcamp.com/).'"
      ]
     },
     "execution_count": 18,
     "metadata": {},
     "output_type": "execute_result"
    }
   ],
   "source": [
    "answer_llm_1 = df.iloc[0].answer_llm\n",
    "\n",
    "answer_llm_1"
   ]
  },
  {
   "cell_type": "code",
   "execution_count": 20,
   "id": "f139e7d0-1a33-4bf9-840b-6acc90ff43e7",
   "metadata": {},
   "outputs": [],
   "source": [
    "answer_llm_1_v = embedding_model.encode(answer_llm_1)"
   ]
  },
  {
   "cell_type": "code",
   "execution_count": 21,
   "id": "3930d5d0-1201-43ea-8b6f-9805b0a96e3a",
   "metadata": {},
   "outputs": [
    {
     "data": {
      "text/plain": [
       "array([-4.22446549e-01, -2.24856257e-01, -3.24058414e-01, -2.84758478e-01,\n",
       "        7.25642918e-03,  1.01186566e-01,  1.03716910e-01, -1.89983174e-01,\n",
       "       -2.80599259e-02,  2.71588802e-01, -1.15337655e-01,  1.14666030e-01,\n",
       "       -8.49586725e-02,  3.32365334e-01,  5.52720726e-02, -2.22195774e-01,\n",
       "       -1.42540857e-01,  1.02519155e-01, -1.52333647e-01, -2.02912465e-01,\n",
       "        1.98422875e-02,  8.38149190e-02, -5.68632066e-01,  2.32844148e-02,\n",
       "       -1.67292684e-01, -2.39256918e-01, -8.05464387e-02,  2.57084146e-02,\n",
       "       -8.15464780e-02, -7.39290118e-02, -2.61550009e-01,  1.92575473e-02,\n",
       "        3.22909206e-01,  1.90357104e-01, -9.34726413e-05, -2.13165611e-01,\n",
       "        2.88943425e-02, -1.79530401e-02, -5.92756271e-02,  1.99918285e-01,\n",
       "       -4.75170948e-02,  1.71634093e-01, -2.45917086e-02, -9.38061550e-02,\n",
       "       -3.57002735e-01,  1.33263692e-01,  1.94045901e-01, -1.18530318e-01,\n",
       "        4.56915230e-01,  1.47728190e-01,  3.35945129e-01, -1.86959356e-01,\n",
       "        2.45954901e-01, -1.07774414e-01, -1.80859715e-01,  1.18171848e-01,\n",
       "        7.27292970e-02,  2.78034002e-01,  4.16388541e-01, -1.66037992e-01,\n",
       "       -1.28587216e-01,  3.40980262e-01, -5.31823598e-02,  2.86048353e-02,\n",
       "        2.70212382e-01,  1.59813128e-02,  5.30229270e-01, -4.24391806e-01,\n",
       "        4.41506058e-02,  1.12921618e-01,  5.93987465e-01,  1.31700680e-01,\n",
       "        7.96381291e-03, -9.32246167e-03,  2.07376808e-01,  9.57206264e-02,\n",
       "       -1.83128104e-01,  1.22415923e-01, -2.01750427e-01,  3.12428743e-01,\n",
       "       -5.54992780e-02, -2.87764728e-01, -1.73390508e-01,  1.55471057e-01,\n",
       "        1.19515164e-02,  3.49037141e-01, -8.38189423e-02, -1.50645420e-01,\n",
       "        5.33228293e-02, -1.06787771e-01,  1.13244712e-01,  3.14916372e-01,\n",
       "       -2.95622973e-03,  4.66762930e-01, -1.56012893e-01, -3.61533761e-01,\n",
       "        3.31573486e-02,  2.06269026e-01, -1.06713794e-01, -5.01036495e-02,\n",
       "        1.83970019e-01, -1.39953084e-02,  2.16501340e-01,  1.41000211e-01,\n",
       "        1.90431491e-01, -3.77753079e-01,  8.65841657e-02, -9.80312675e-02,\n",
       "        2.32716277e-01,  2.01482512e-02, -9.70341042e-02,  1.01333164e-01,\n",
       "       -1.72075003e-01, -1.49902552e-01, -2.79156476e-01,  4.38269198e-01,\n",
       "       -1.79244116e-01, -5.75872399e-02, -7.84661770e-02, -3.23518127e-01,\n",
       "       -2.88021684e-01,  1.18698619e-01,  8.74238461e-02,  2.05323666e-01,\n",
       "       -4.80108410e-02, -5.71200177e-02, -2.83934362e-02, -3.82449590e-02,\n",
       "       -2.26607919e-01, -6.20817728e-02, -8.28164890e-02,  3.57217342e-01,\n",
       "       -1.73984095e-01, -2.00290740e-01,  2.40433693e-01,  2.16891527e-01,\n",
       "       -6.78277612e-02,  1.77686155e-01, -7.99841899e-03,  2.68137604e-01,\n",
       "        1.61456317e-01,  3.94612044e-01,  8.85786191e-02,  2.40581304e-01,\n",
       "       -2.59246095e-03, -3.16258013e-01, -2.44214848e-01,  3.14837724e-01,\n",
       "       -1.19753405e-01,  2.73653101e-02, -1.63026363e-01, -1.62030049e-02,\n",
       "       -3.58392261e-02,  3.33115399e-01,  5.83249390e-01, -2.79057741e-01,\n",
       "        4.58128810e-01,  4.30684417e-01, -9.04696286e-02, -9.46645215e-02,\n",
       "       -4.69528921e-02,  1.82061687e-01,  1.93517745e-01, -5.74656613e-02,\n",
       "        5.64571097e-02,  6.01408891e-02, -2.71578580e-01,  3.31837907e-02,\n",
       "       -2.93490499e-01,  8.48192200e-02,  1.16655000e-01, -3.32131460e-02,\n",
       "       -9.28958580e-02,  8.89660344e-02,  4.50625736e-03, -1.12345159e-01,\n",
       "        2.86367059e-01, -4.58183348e-01,  2.24825993e-01, -1.59531116e-01,\n",
       "       -3.91896144e-02, -4.82417852e-01,  2.00283900e-01,  5.05796410e-02,\n",
       "       -7.37684369e-02, -2.89322305e-02,  5.19139245e-02,  2.53143758e-01,\n",
       "       -1.18403286e-01, -3.75850977e-05, -1.42503413e-03,  8.79560038e-02,\n",
       "       -1.54602483e-01,  1.39947549e-01, -1.63175032e-01, -2.27564886e-01,\n",
       "        2.43595485e-02,  1.83513567e-01,  2.09396437e-01,  6.44866517e-03,\n",
       "       -1.67488962e-01,  2.13646799e-01, -9.41732377e-02, -1.58162378e-02,\n",
       "       -8.20812136e-02, -1.83308780e-01,  2.60268360e-01, -5.81486881e-01,\n",
       "       -1.88393205e-01,  4.93148774e-01,  1.71536312e-01, -1.94944099e-01,\n",
       "       -2.98343096e-02, -1.10752113e-01,  1.75626159e-01, -2.15448916e-01,\n",
       "        3.90823573e-01, -4.05398634e-04,  1.63337797e-01, -1.30663797e-01,\n",
       "       -1.60531953e-01, -1.78250149e-01,  1.44646168e-01, -5.53424656e-02,\n",
       "       -2.84335226e-01, -2.52671123e-01, -2.86735326e-01,  7.28119910e-02,\n",
       "        1.01622507e-01,  2.40729585e-01,  2.70242780e-01, -2.02046320e-01,\n",
       "        3.18083346e-01,  2.44049698e-01, -1.42584249e-01,  8.29215050e-02,\n",
       "        4.85367142e-02,  2.96780825e-01,  4.12520409e-01, -3.14379066e-01,\n",
       "       -1.16970025e-01,  6.29207343e-02,  7.08074644e-02,  2.58253694e-01,\n",
       "       -1.14306333e-02,  4.45277184e-01,  1.21436141e-01, -1.32654220e-01,\n",
       "       -7.34769478e-02,  1.45819008e-01,  8.71956199e-02,  3.29194926e-02,\n",
       "       -1.06550351e-01,  1.32414505e-01,  5.37189431e-02,  1.55813411e-01,\n",
       "       -3.02494522e-02, -1.43763736e-01, -2.87022442e-01,  2.91071415e-01,\n",
       "        1.64530411e-01, -1.11769840e-01,  2.36827105e-01, -3.21419120e-01,\n",
       "       -1.66114718e-01, -1.28118461e-02,  3.42823267e-01, -1.29733771e-01,\n",
       "       -8.64382684e-02,  8.01279694e-02,  2.09743038e-01, -1.31370798e-01,\n",
       "       -4.56719726e-01, -2.07562476e-01,  2.11608559e-01, -1.06123090e-01,\n",
       "       -7.91287944e-02, -1.07585475e-01, -3.71915281e-01, -7.27088153e-02,\n",
       "       -1.18881032e-01, -8.83410424e-02, -1.14614973e-02, -1.38135672e-01,\n",
       "       -2.01837197e-01, -4.67055924e-02, -9.99320671e-02, -2.49767691e-01,\n",
       "        2.34003603e-01, -3.08610976e-01,  5.94545528e-02, -1.53504878e-01,\n",
       "        2.65017301e-01,  3.01959994e-03, -1.05429068e-01,  1.93159595e-01,\n",
       "        3.11240494e-01,  3.94329935e-01, -1.93248559e-02,  4.99086589e-01,\n",
       "        1.55235240e-02, -1.99357420e-01,  5.28701639e-04,  4.31942135e-01,\n",
       "        7.14856898e-03, -1.23075522e-01,  8.09214357e-03, -1.80046067e-01,\n",
       "        6.30259840e-03, -3.00480593e-02, -3.72297019e-01,  1.83589578e-01,\n",
       "        2.57175624e-01, -1.55412167e-01,  1.24235354e-01,  1.37525707e-01,\n",
       "       -1.35491267e-01,  3.29673998e-02, -9.26109329e-02, -5.65365195e-01,\n",
       "        2.80102491e-02, -2.07512379e-02, -1.69507325e-01, -2.20879644e-01,\n",
       "       -2.19279394e-01, -2.83492446e-01, -4.83236074e-01, -3.42599332e-01,\n",
       "       -9.17721614e-02,  2.96830237e-01, -5.98578993e-03,  6.14565946e-02,\n",
       "       -1.05392493e-01,  1.58028528e-01,  4.33737636e-02,  2.40767151e-01,\n",
       "       -3.02058756e-01, -2.03180507e-01,  3.31530333e-01, -3.77642363e-01,\n",
       "       -2.81263560e-01,  1.91836596e-01, -1.27187788e-01,  1.78842291e-01,\n",
       "       -2.64506638e-01,  1.23102041e-02, -1.61026523e-01,  1.34969994e-01,\n",
       "       -8.89986604e-02, -4.67514731e-02,  4.90023911e-01,  7.38462359e-02,\n",
       "       -1.30986691e-01, -3.05827111e-01, -1.67545646e-01,  1.94467813e-01,\n",
       "        1.63925290e-01,  1.95639074e-01,  2.50459850e-01, -4.28531021e-01,\n",
       "        3.45136202e-03, -2.58735657e-01,  5.29080629e-01, -3.74269754e-01,\n",
       "        1.52396157e-01, -1.04267478e-01,  5.28327078e-02,  6.97041228e-02,\n",
       "        3.10416311e-01,  1.34908512e-01, -1.46409616e-01,  8.79695937e-02,\n",
       "       -2.16057539e-01, -5.98213822e-03,  1.46351337e-01,  1.00754820e-01,\n",
       "       -3.56721848e-01,  2.37128615e-01, -2.08308592e-01, -1.37768105e-01,\n",
       "        1.87474936e-01, -1.37022138e-01,  1.79654598e-01,  9.50282216e-02,\n",
       "        3.05512726e-01, -2.35115271e-03, -5.99397123e-02,  3.43031466e-01,\n",
       "        2.22358793e-01,  3.86910379e-01, -4.61395569e-02, -5.23233414e-01,\n",
       "       -1.88939556e-01, -3.29894423e-02,  1.58315703e-01, -6.72143698e-02,\n",
       "        1.70431644e-01, -1.60779819e-01, -1.32888198e-01,  1.94981799e-01,\n",
       "       -7.49424323e-02,  1.33112699e-01, -3.46186385e-02, -3.98084037e-02,\n",
       "        1.55843034e-01,  7.61214495e-02,  6.12081923e-02,  1.30053878e-01,\n",
       "       -4.20598686e-01, -8.50357860e-02,  7.93772265e-02,  1.17576487e-01,\n",
       "        1.19341966e-02, -8.69094860e-03,  1.18011624e-01, -3.85569632e-01,\n",
       "       -1.99203730e-01,  3.17576230e-01,  6.12181202e-02, -1.49611905e-01,\n",
       "       -8.59779790e-02, -3.21716629e-02,  1.85915381e-01, -1.35080367e-01,\n",
       "        3.26779842e-01,  1.11499682e-01,  2.00124830e-01, -1.81170076e-01,\n",
       "        9.46173631e-03,  2.59242088e-01, -8.62893164e-02,  1.24218024e-01,\n",
       "       -2.26192072e-01,  1.87308297e-01, -6.76105395e-02,  1.09886266e-01,\n",
       "        7.81963617e-02,  1.59899145e-01,  4.34805304e-02,  3.77582192e-01,\n",
       "        2.00292803e-02,  3.12313020e-01,  3.17891955e-01,  3.18761989e-02,\n",
       "        1.84716880e-01,  1.02976911e-01, -1.29829776e-02, -5.33965826e-01,\n",
       "       -4.15462907e-03, -9.74933282e-02,  2.92788059e-01, -1.68569423e-02,\n",
       "       -3.65061045e-01,  2.62162805e-01, -1.99976206e-01, -1.79652378e-01,\n",
       "       -6.74350858e-02, -7.36469775e-02,  7.99695402e-03, -8.52290317e-02,\n",
       "        3.02015811e-01,  7.65382171e-01,  1.86538041e-01,  9.91606191e-02,\n",
       "       -3.15705091e-02, -2.39601418e-01,  3.49765509e-01, -3.79434228e-01,\n",
       "        4.37371314e-01, -3.03044796e-01,  3.50981578e-02, -1.36657637e-02,\n",
       "       -3.92118841e-02,  1.74251482e-01,  2.19215915e-01,  3.65043953e-02,\n",
       "        1.70673028e-01,  1.96939483e-01, -1.31071076e-01, -4.28890586e-02,\n",
       "        1.75453767e-01, -4.72446084e-02,  6.98638782e-02,  3.11690215e-02,\n",
       "        3.22513998e-01,  4.49009001e-01,  1.86776906e-01, -1.16196573e-02,\n",
       "       -1.47021487e-01, -2.00406447e-01,  7.67487958e-02, -1.27667904e-01,\n",
       "       -6.29130676e-02, -4.80403572e-01,  1.54105708e-01, -9.61350277e-02,\n",
       "       -2.31544882e-01,  3.21784280e-02, -2.23328322e-01, -9.49404109e-03,\n",
       "        1.23602584e-01, -1.67446643e-01,  2.84745991e-01,  1.42777031e-02,\n",
       "       -2.71191090e-01, -3.30283552e-01,  3.32764149e-01,  1.96248323e-01,\n",
       "       -2.55561173e-01,  1.17187046e-01,  4.77881253e-01, -4.56429459e-02,\n",
       "       -1.86917365e-01, -2.67586559e-01,  1.55057386e-01,  4.42822933e-01,\n",
       "        3.23592216e-01,  2.25058690e-01,  4.15321998e-02, -2.00825393e-01,\n",
       "        1.77915126e-01,  3.05669188e-01,  2.31600404e-01, -3.19247186e-01,\n",
       "       -1.18139103e-01,  1.34351820e-01,  2.80499399e-01, -2.21151099e-01,\n",
       "        5.30998521e-02,  1.29904285e-01,  6.53698072e-02, -1.18015241e-02,\n",
       "        6.73178434e-02,  8.00407529e-02, -5.13182700e-01, -5.82332797e-02,\n",
       "        6.54615536e-02,  2.76209116e-01, -1.83698051e-02,  2.94542342e-01,\n",
       "       -3.07798773e-01,  1.83834076e-01,  1.59030885e-01,  4.07141924e-01,\n",
       "       -1.66562304e-01, -4.79783148e-01, -2.10012928e-01, -4.13606107e-01,\n",
       "        5.92363104e-02,  1.54403865e-01,  6.57917524e-04,  2.10361034e-01,\n",
       "        2.83089578e-01,  3.63212079e-01,  1.09330714e-01, -5.22614777e-01,\n",
       "       -1.22006446e-01,  1.48909390e-02,  8.16330984e-02,  9.79117081e-02,\n",
       "       -1.71466395e-01, -1.19785875e-01,  3.07113677e-01,  2.41553932e-01,\n",
       "        1.07853256e-01, -1.99582592e-01, -3.44078898e-01, -6.04018830e-02,\n",
       "        5.21590225e-02,  3.28596123e-02, -3.27362958e-03,  1.36293754e-01,\n",
       "       -3.81064005e-02, -2.55616546e-01,  1.35476470e-01, -2.36675397e-01,\n",
       "       -4.05684918e-01,  2.38533631e-01,  4.29497212e-02,  1.72240529e-02,\n",
       "       -2.48771071e-01, -5.33275530e-02, -3.07872128e-02,  5.81808165e-02,\n",
       "       -1.23233385e-01,  2.18563285e-02,  2.29185984e-01,  9.34008956e-02,\n",
       "       -2.54486620e-01, -1.76820964e-01,  1.78003520e-01, -1.88910052e-01,\n",
       "       -2.32188642e-01,  1.38992473e-01,  8.63836035e-02,  1.66123390e-01,\n",
       "       -1.26168072e-01,  4.47001532e-02, -2.57232529e-03,  9.59318504e-02,\n",
       "        1.70473605e-01,  4.11361121e-02,  3.73511106e-01, -2.45751396e-01,\n",
       "        8.69028196e-02, -3.60793263e-01, -1.35020286e-01,  2.28721783e-01,\n",
       "        5.50211184e-02,  2.56113142e-01, -2.00420655e-02,  1.00338824e-01,\n",
       "        2.35083587e-02, -5.19269034e-02,  1.96859017e-01, -3.61611397e-04,\n",
       "        3.07785898e-01, -1.46380290e-01,  9.31808129e-02,  1.40383795e-01,\n",
       "        1.81080885e-02, -1.38114452e-01,  4.64578792e-02,  5.93974218e-02,\n",
       "        4.88918871e-02,  2.51312405e-01, -8.47727880e-02,  7.51709491e-02,\n",
       "        1.41400155e-02,  3.21199000e-01,  1.87376946e-01,  3.38847190e-01,\n",
       "        1.51105061e-01,  3.21048081e-01,  1.62717119e-01, -4.25226092e-01,\n",
       "       -3.60833555e-01,  4.96277846e-02,  1.51703164e-01, -2.27194116e-01,\n",
       "       -1.19753860e-01, -2.01473087e-02, -2.40545928e-01,  5.62719293e-02,\n",
       "        3.93154807e-02,  1.62902772e-01,  4.60221060e-02,  1.69599175e-01,\n",
       "       -1.60548106e-01, -2.60249199e-03, -9.23942104e-02, -4.32310522e-01,\n",
       "        9.29701477e-02,  3.15057278e-01,  1.51550733e-02,  4.36366163e-02,\n",
       "       -2.50602722e-01, -8.28457847e-02,  1.22859351e-01,  3.40397246e-02,\n",
       "        1.75262973e-01, -1.60563320e-01, -3.39263707e-01,  8.57213438e-02,\n",
       "        7.73878843e-02, -1.93213850e-01,  1.34666190e-01,  3.19205085e-03,\n",
       "        2.99942374e-01, -2.12175138e-02,  1.68446496e-01,  3.32506210e-01,\n",
       "       -2.90306896e-01, -2.65654176e-02,  1.57836169e-01, -1.45967975e-01,\n",
       "        1.02216974e-01, -3.66670966e-01, -1.05406910e-01,  8.61347318e-02,\n",
       "       -2.02301443e-01,  3.80773805e-02, -1.82997838e-01, -1.71337470e-01,\n",
       "       -1.67108074e-01, -4.81708020e-01, -3.76028977e-02, -2.37805545e-01,\n",
       "        1.88101396e-01, -5.88414930e-02,  5.97653806e-01,  2.54528522e-01,\n",
       "        3.43906358e-02,  3.61725464e-02, -3.01713407e-01, -3.13887179e-01,\n",
       "       -2.44420599e-02,  3.54958735e-02, -1.56710073e-01, -3.16900641e-01,\n",
       "        2.10859533e-02,  2.57124722e-01,  4.08265084e-01,  1.50323004e-01,\n",
       "       -6.00401917e-03, -1.62305832e-01,  3.02282244e-01, -2.29149416e-01,\n",
       "        1.85533658e-01,  9.38911662e-02,  4.12931032e-02, -1.50901020e-01,\n",
       "       -1.33867323e-01,  2.03006327e-01, -2.04597056e-01,  3.01504135e-01,\n",
       "        2.38587379e-01,  6.47758693e-02,  1.75633207e-01,  2.81314194e-01,\n",
       "        1.58511877e-01,  2.10825074e-03,  3.89198571e-01, -2.64083624e-01,\n",
       "       -2.38809377e-01,  2.06713349e-01,  1.16575621e-01, -1.77012816e-01,\n",
       "       -2.77637225e-02,  1.83658719e-01,  2.25406319e-01, -8.78800228e-02,\n",
       "       -1.43584460e-01,  2.10636601e-01,  1.69541448e-01, -5.84906840e-04,\n",
       "       -3.66570540e-02, -3.57494950e-01,  2.06115052e-01, -1.50764823e-01,\n",
       "       -8.18619803e-02,  3.86624373e-02,  1.66414812e-01,  1.40700769e-02,\n",
       "       -2.76515305e-01, -1.28965646e-01, -6.98805898e-02,  2.13923261e-01,\n",
       "       -2.81380624e-01, -3.66245881e-02, -1.43629074e-01,  6.90279976e-02,\n",
       "       -7.71775246e-02,  1.96927145e-01, -2.78328776e-01, -4.52038497e-02,\n",
       "       -1.19244494e-01, -3.84129345e-01,  8.88781548e-02,  4.29855347e-01,\n",
       "        2.08253354e-01, -3.37734908e-01, -2.85533398e-01,  9.70599502e-02,\n",
       "        2.04244450e-01, -6.10269755e-02, -1.66054562e-01, -2.67020494e-01],\n",
       "      dtype=float32)"
      ]
     },
     "execution_count": 21,
     "metadata": {},
     "output_type": "execute_result"
    }
   ],
   "source": [
    "answer_llm_1_v"
   ]
  },
  {
   "cell_type": "markdown",
   "id": "75ec02c2-f398-4510-97d8-f5be86b572ec",
   "metadata": {},
   "source": [
    "What's the first value of the resulting vector?\n",
    "\n",
    "- -0.42\n",
    "- -0.22\n",
    "- -0.02\n",
    "- 0.21"
   ]
  },
  {
   "cell_type": "code",
   "execution_count": 23,
   "id": "8cddd5d6-64ce-490e-8337-f6da5843269f",
   "metadata": {},
   "outputs": [
    {
     "data": {
      "text/plain": [
       "-0.42244655"
      ]
     },
     "execution_count": 23,
     "metadata": {},
     "output_type": "execute_result"
    }
   ],
   "source": [
    "answer_llm_1_v[0]"
   ]
  },
  {
   "cell_type": "markdown",
   "id": "edf7d54b-0c16-4ec3-a980-8593178b93fe",
   "metadata": {},
   "source": [
    "### Answer Q1:\n",
    "- -0.42"
   ]
  },
  {
   "cell_type": "markdown",
   "id": "fe4c1b80-f709-4251-8bf8-30203f36a1db",
   "metadata": {},
   "source": [
    "## Q2. Computing the dot product\n",
    "Now for each answer pair, let's create embeddings and compute dot product between them\n",
    "\n",
    "We will put the results (scores) into the ```evaluations list```"
   ]
  },
  {
   "cell_type": "code",
   "execution_count": 66,
   "id": "dd26bef3-3702-4f23-9e92-9ffe4c0c0cac",
   "metadata": {},
   "outputs": [
    {
     "name": "stderr",
     "output_type": "stream",
     "text": [
      "300it [02:19,  2.16it/s]\n"
     ]
    }
   ],
   "source": [
    "for indx, row in tqdm(df.iterrows()):\n",
    "    answer_llm_v = embedding_model.encode(row.answer_llm)\n",
    "    answer_orig_v = embedding_model.encode(row.answer_orig)\n",
    "\n",
    "    cosine_sim = answer_llm_v.dot(answer_orig_v)\n",
    "\n",
    "    df.at[indx, 'cosine_sim'] = cosine_sim"
   ]
  },
  {
   "cell_type": "code",
   "execution_count": 73,
   "id": "0906072b-73d6-408c-9422-6af421ed37e2",
   "metadata": {},
   "outputs": [
    {
     "data": {
      "text/html": [
       "<div>\n",
       "<style scoped>\n",
       "    .dataframe tbody tr th:only-of-type {\n",
       "        vertical-align: middle;\n",
       "    }\n",
       "\n",
       "    .dataframe tbody tr th {\n",
       "        vertical-align: top;\n",
       "    }\n",
       "\n",
       "    .dataframe thead th {\n",
       "        text-align: right;\n",
       "    }\n",
       "</style>\n",
       "<table border=\"1\" class=\"dataframe\">\n",
       "  <thead>\n",
       "    <tr style=\"text-align: right;\">\n",
       "      <th></th>\n",
       "      <th>answer_llm</th>\n",
       "      <th>answer_orig</th>\n",
       "      <th>document</th>\n",
       "      <th>question</th>\n",
       "      <th>course</th>\n",
       "      <th>cosine_sim</th>\n",
       "    </tr>\n",
       "  </thead>\n",
       "  <tbody>\n",
       "    <tr>\n",
       "      <th>0</th>\n",
       "      <td>You can sign up for the course by visiting the...</td>\n",
       "      <td>Machine Learning Zoomcamp FAQ\\nThe purpose of ...</td>\n",
       "      <td>0227b872</td>\n",
       "      <td>Where can I sign up for the course?</td>\n",
       "      <td>machine-learning-zoomcamp</td>\n",
       "      <td>17.515987</td>\n",
       "    </tr>\n",
       "    <tr>\n",
       "      <th>1</th>\n",
       "      <td>You can sign up using the link provided in the...</td>\n",
       "      <td>Machine Learning Zoomcamp FAQ\\nThe purpose of ...</td>\n",
       "      <td>0227b872</td>\n",
       "      <td>Can you provide a link to sign up?</td>\n",
       "      <td>machine-learning-zoomcamp</td>\n",
       "      <td>13.418402</td>\n",
       "    </tr>\n",
       "    <tr>\n",
       "      <th>2</th>\n",
       "      <td>Yes, there is an FAQ for the Machine Learning ...</td>\n",
       "      <td>Machine Learning Zoomcamp FAQ\\nThe purpose of ...</td>\n",
       "      <td>0227b872</td>\n",
       "      <td>Is there an FAQ for this Machine Learning course?</td>\n",
       "      <td>machine-learning-zoomcamp</td>\n",
       "      <td>25.313255</td>\n",
       "    </tr>\n",
       "  </tbody>\n",
       "</table>\n",
       "</div>"
      ],
      "text/plain": [
       "                                          answer_llm  \\\n",
       "0  You can sign up for the course by visiting the...   \n",
       "1  You can sign up using the link provided in the...   \n",
       "2  Yes, there is an FAQ for the Machine Learning ...   \n",
       "\n",
       "                                         answer_orig  document  \\\n",
       "0  Machine Learning Zoomcamp FAQ\\nThe purpose of ...  0227b872   \n",
       "1  Machine Learning Zoomcamp FAQ\\nThe purpose of ...  0227b872   \n",
       "2  Machine Learning Zoomcamp FAQ\\nThe purpose of ...  0227b872   \n",
       "\n",
       "                                            question  \\\n",
       "0                Where can I sign up for the course?   \n",
       "1                 Can you provide a link to sign up?   \n",
       "2  Is there an FAQ for this Machine Learning course?   \n",
       "\n",
       "                      course  cosine_sim  \n",
       "0  machine-learning-zoomcamp   17.515987  \n",
       "1  machine-learning-zoomcamp   13.418402  \n",
       "2  machine-learning-zoomcamp   25.313255  "
      ]
     },
     "execution_count": 73,
     "metadata": {},
     "output_type": "execute_result"
    }
   ],
   "source": [
    "df.head(3)"
   ]
  },
  {
   "cell_type": "markdown",
   "id": "f6edcc45-6211-4b13-9344-89de1fc05b79",
   "metadata": {},
   "source": [
    "What's the 75% percentile of the score?\n",
    "\n",
    "- 21.67\n",
    "- 31.67\n",
    "- 41.67\n",
    "- 51.67"
   ]
  },
  {
   "cell_type": "code",
   "execution_count": 72,
   "id": "acedaf16-b9fe-4459-92b1-92bf2ff816c6",
   "metadata": {},
   "outputs": [
    {
     "data": {
      "text/plain": [
       "count    300.000000\n",
       "mean      27.495996\n",
       "std        6.384742\n",
       "min        4.547924\n",
       "25%       24.307844\n",
       "50%       28.336870\n",
       "75%       31.674309\n",
       "max       39.476013\n",
       "Name: cosine_sim, dtype: float64"
      ]
     },
     "execution_count": 72,
     "metadata": {},
     "output_type": "execute_result"
    }
   ],
   "source": [
    "df['cosine_sim'].describe()"
   ]
  },
  {
   "cell_type": "markdown",
   "id": "0664ace2-2fc4-44c8-aa86-2b855694c99e",
   "metadata": {},
   "source": [
    "  "
   ]
  },
  {
   "cell_type": "markdown",
   "id": "2fe98f05-865e-4f66-8226-6fbc9c03df48",
   "metadata": {},
   "source": [
    "### Answer Q2: \n",
    "- 31.67"
   ]
  },
  {
   "cell_type": "markdown",
   "id": "64a35e00-80d3-418f-ac90-2e27cfbcd40b",
   "metadata": {},
   "source": [
    "## Q3. Computing the cosine\n",
    "From Q2, we can see that the results are not within the [0, 1] range. It's because the vectors coming from this model are not normalized.\n",
    "\n",
    "So we need to normalize them.\n",
    "\n",
    "To do it, we\n",
    "\n",
    "- Compute the norm of a vector\n",
    "- Divide each element by this norm\n",
    "\n",
    "So, for vector v, it'll be v / ||v||\n",
    "\n",
    "In numpy, this is how you do it:"
   ]
  },
  {
   "cell_type": "code",
   "execution_count": 81,
   "id": "2afcca4f-265c-4bb9-bea1-376dc33974d9",
   "metadata": {},
   "outputs": [],
   "source": [
    "df_norm = df.copy()"
   ]
  },
  {
   "cell_type": "code",
   "execution_count": 75,
   "id": "f6a43d3b-daa7-4f7d-b54d-da761430d45c",
   "metadata": {},
   "outputs": [],
   "source": [
    "import numpy as np"
   ]
  },
  {
   "cell_type": "code",
   "execution_count": null,
   "id": "d718dd1e-b117-4446-a94d-2b9a61398945",
   "metadata": {},
   "outputs": [],
   "source": [
    "norm = np.sqrt((v * v).sum()) # or np.linalg.norm(v)\n",
    "v_norm = v / norm"
   ]
  },
  {
   "cell_type": "markdown",
   "id": "63ca2493-4384-44c0-9df3-072f4dc6f980",
   "metadata": {},
   "source": [
    "Let's put it into a function and then compute dot product between normalized vectors. This will give us cosine similarity\n",
    "\n"
   ]
  },
  {
   "cell_type": "code",
   "execution_count": 84,
   "id": "1aab2680-e0bd-4d1f-b7c7-61eaf45936fd",
   "metadata": {},
   "outputs": [],
   "source": [
    "def cosine_simmilarity(df, model, col_1, col_2):\n",
    "\n",
    "    for indx, row in tqdm(df.iterrows()):\n",
    "        answer_llm_v = model.encode(row[col_1]) \n",
    "        answer_llm_v_norm = answer_llm_v / np.linalg.norm(answer_llm_v)\n",
    "    \n",
    "        answer_orig_v = embedding_model.encode(row[col_2]) \n",
    "        answer_orig_v_norm = answer_orig_v / np.linalg.norm(answer_orig_v)\n",
    "    \n",
    "        cosine_sim = np.dot(answer_llm_v_norm, answer_orig_v_norm)\n",
    "        \n",
    "        df.at[indx, 'cosine_sim'] = cosine_sim\n",
    "\n",
    "    return df"
   ]
  },
  {
   "cell_type": "code",
   "execution_count": 88,
   "id": "28e9b679-4e8d-4bd7-b88c-4af85eb1336c",
   "metadata": {},
   "outputs": [
    {
     "name": "stderr",
     "output_type": "stream",
     "text": [
      "300it [02:19,  2.16it/s]\n"
     ]
    }
   ],
   "source": [
    "df_norm_v = cosine_simmilarity(df_norm, embedding_model, answer_llm, answer_orig)"
   ]
  },
  {
   "cell_type": "code",
   "execution_count": 89,
   "id": "60732957-7dee-4c7a-afae-26e5790de0f4",
   "metadata": {},
   "outputs": [
    {
     "data": {
      "text/html": [
       "<div>\n",
       "<style scoped>\n",
       "    .dataframe tbody tr th:only-of-type {\n",
       "        vertical-align: middle;\n",
       "    }\n",
       "\n",
       "    .dataframe tbody tr th {\n",
       "        vertical-align: top;\n",
       "    }\n",
       "\n",
       "    .dataframe thead th {\n",
       "        text-align: right;\n",
       "    }\n",
       "</style>\n",
       "<table border=\"1\" class=\"dataframe\">\n",
       "  <thead>\n",
       "    <tr style=\"text-align: right;\">\n",
       "      <th></th>\n",
       "      <th>answer_llm</th>\n",
       "      <th>answer_orig</th>\n",
       "      <th>document</th>\n",
       "      <th>question</th>\n",
       "      <th>course</th>\n",
       "      <th>cosine_sim</th>\n",
       "    </tr>\n",
       "  </thead>\n",
       "  <tbody>\n",
       "    <tr>\n",
       "      <th>0</th>\n",
       "      <td>You can sign up for the course by visiting the...</td>\n",
       "      <td>Machine Learning Zoomcamp FAQ\\nThe purpose of ...</td>\n",
       "      <td>0227b872</td>\n",
       "      <td>Where can I sign up for the course?</td>\n",
       "      <td>machine-learning-zoomcamp</td>\n",
       "      <td>0.506754</td>\n",
       "    </tr>\n",
       "    <tr>\n",
       "      <th>1</th>\n",
       "      <td>You can sign up using the link provided in the...</td>\n",
       "      <td>Machine Learning Zoomcamp FAQ\\nThe purpose of ...</td>\n",
       "      <td>0227b872</td>\n",
       "      <td>Can you provide a link to sign up?</td>\n",
       "      <td>machine-learning-zoomcamp</td>\n",
       "      <td>0.388549</td>\n",
       "    </tr>\n",
       "    <tr>\n",
       "      <th>2</th>\n",
       "      <td>Yes, there is an FAQ for the Machine Learning ...</td>\n",
       "      <td>Machine Learning Zoomcamp FAQ\\nThe purpose of ...</td>\n",
       "      <td>0227b872</td>\n",
       "      <td>Is there an FAQ for this Machine Learning course?</td>\n",
       "      <td>machine-learning-zoomcamp</td>\n",
       "      <td>0.718599</td>\n",
       "    </tr>\n",
       "    <tr>\n",
       "      <th>3</th>\n",
       "      <td>The context does not provide any specific info...</td>\n",
       "      <td>Machine Learning Zoomcamp FAQ\\nThe purpose of ...</td>\n",
       "      <td>0227b872</td>\n",
       "      <td>Does this course have a GitHub repository for ...</td>\n",
       "      <td>machine-learning-zoomcamp</td>\n",
       "      <td>0.337266</td>\n",
       "    </tr>\n",
       "    <tr>\n",
       "      <th>4</th>\n",
       "      <td>To structure your questions and answers for th...</td>\n",
       "      <td>Machine Learning Zoomcamp FAQ\\nThe purpose of ...</td>\n",
       "      <td>0227b872</td>\n",
       "      <td>How can I structure my questions and answers f...</td>\n",
       "      <td>machine-learning-zoomcamp</td>\n",
       "      <td>0.521792</td>\n",
       "    </tr>\n",
       "    <tr>\n",
       "      <th>...</th>\n",
       "      <td>...</td>\n",
       "      <td>...</td>\n",
       "      <td>...</td>\n",
       "      <td>...</td>\n",
       "      <td>...</td>\n",
       "      <td>...</td>\n",
       "    </tr>\n",
       "    <tr>\n",
       "      <th>295</th>\n",
       "      <td>An alternative way to load the data using the ...</td>\n",
       "      <td>Above users showed how to load the dataset dir...</td>\n",
       "      <td>8d209d6d</td>\n",
       "      <td>What is an alternative way to load the data us...</td>\n",
       "      <td>machine-learning-zoomcamp</td>\n",
       "      <td>0.914175</td>\n",
       "    </tr>\n",
       "    <tr>\n",
       "      <th>296</th>\n",
       "      <td>You can directly download the dataset from Git...</td>\n",
       "      <td>Above users showed how to load the dataset dir...</td>\n",
       "      <td>8d209d6d</td>\n",
       "      <td>How can I directly download the dataset from G...</td>\n",
       "      <td>machine-learning-zoomcamp</td>\n",
       "      <td>0.902190</td>\n",
       "    </tr>\n",
       "    <tr>\n",
       "      <th>297</th>\n",
       "      <td>You can fetch data for homework using the `req...</td>\n",
       "      <td>Above users showed how to load the dataset dir...</td>\n",
       "      <td>8d209d6d</td>\n",
       "      <td>Could you share a method to fetch data for hom...</td>\n",
       "      <td>machine-learning-zoomcamp</td>\n",
       "      <td>0.904734</td>\n",
       "    </tr>\n",
       "    <tr>\n",
       "      <th>298</th>\n",
       "      <td>If the status code is 200 when downloading dat...</td>\n",
       "      <td>Above users showed how to load the dataset dir...</td>\n",
       "      <td>8d209d6d</td>\n",
       "      <td>What should I do if the status code is 200 whe...</td>\n",
       "      <td>machine-learning-zoomcamp</td>\n",
       "      <td>0.726782</td>\n",
       "    </tr>\n",
       "    <tr>\n",
       "      <th>299</th>\n",
       "      <td>If the file download fails when using the requ...</td>\n",
       "      <td>Above users showed how to load the dataset dir...</td>\n",
       "      <td>8d209d6d</td>\n",
       "      <td>What does the code using the requests library ...</td>\n",
       "      <td>machine-learning-zoomcamp</td>\n",
       "      <td>0.493899</td>\n",
       "    </tr>\n",
       "  </tbody>\n",
       "</table>\n",
       "<p>300 rows × 6 columns</p>\n",
       "</div>"
      ],
      "text/plain": [
       "                                            answer_llm  \\\n",
       "0    You can sign up for the course by visiting the...   \n",
       "1    You can sign up using the link provided in the...   \n",
       "2    Yes, there is an FAQ for the Machine Learning ...   \n",
       "3    The context does not provide any specific info...   \n",
       "4    To structure your questions and answers for th...   \n",
       "..                                                 ...   \n",
       "295  An alternative way to load the data using the ...   \n",
       "296  You can directly download the dataset from Git...   \n",
       "297  You can fetch data for homework using the `req...   \n",
       "298  If the status code is 200 when downloading dat...   \n",
       "299  If the file download fails when using the requ...   \n",
       "\n",
       "                                           answer_orig  document  \\\n",
       "0    Machine Learning Zoomcamp FAQ\\nThe purpose of ...  0227b872   \n",
       "1    Machine Learning Zoomcamp FAQ\\nThe purpose of ...  0227b872   \n",
       "2    Machine Learning Zoomcamp FAQ\\nThe purpose of ...  0227b872   \n",
       "3    Machine Learning Zoomcamp FAQ\\nThe purpose of ...  0227b872   \n",
       "4    Machine Learning Zoomcamp FAQ\\nThe purpose of ...  0227b872   \n",
       "..                                                 ...       ...   \n",
       "295  Above users showed how to load the dataset dir...  8d209d6d   \n",
       "296  Above users showed how to load the dataset dir...  8d209d6d   \n",
       "297  Above users showed how to load the dataset dir...  8d209d6d   \n",
       "298  Above users showed how to load the dataset dir...  8d209d6d   \n",
       "299  Above users showed how to load the dataset dir...  8d209d6d   \n",
       "\n",
       "                                              question  \\\n",
       "0                  Where can I sign up for the course?   \n",
       "1                   Can you provide a link to sign up?   \n",
       "2    Is there an FAQ for this Machine Learning course?   \n",
       "3    Does this course have a GitHub repository for ...   \n",
       "4    How can I structure my questions and answers f...   \n",
       "..                                                 ...   \n",
       "295  What is an alternative way to load the data us...   \n",
       "296  How can I directly download the dataset from G...   \n",
       "297  Could you share a method to fetch data for hom...   \n",
       "298  What should I do if the status code is 200 whe...   \n",
       "299  What does the code using the requests library ...   \n",
       "\n",
       "                        course  cosine_sim  \n",
       "0    machine-learning-zoomcamp    0.506754  \n",
       "1    machine-learning-zoomcamp    0.388549  \n",
       "2    machine-learning-zoomcamp    0.718599  \n",
       "3    machine-learning-zoomcamp    0.337266  \n",
       "4    machine-learning-zoomcamp    0.521792  \n",
       "..                         ...         ...  \n",
       "295  machine-learning-zoomcamp    0.914175  \n",
       "296  machine-learning-zoomcamp    0.902190  \n",
       "297  machine-learning-zoomcamp    0.904734  \n",
       "298  machine-learning-zoomcamp    0.726782  \n",
       "299  machine-learning-zoomcamp    0.493899  \n",
       "\n",
       "[300 rows x 6 columns]"
      ]
     },
     "execution_count": 89,
     "metadata": {},
     "output_type": "execute_result"
    }
   ],
   "source": [
    "df_norm_v"
   ]
  },
  {
   "cell_type": "markdown",
   "id": "b33f4cd2-53db-4c95-a6aa-3626cb1aee96",
   "metadata": {},
   "source": [
    "What's the 75% cosine in the scores?\n",
    "\n",
    "- 0.63\n",
    "- 0.73\n",
    "- 0.83\n",
    "- 0.93"
   ]
  },
  {
   "cell_type": "code",
   "execution_count": 90,
   "id": "b341e73b-d012-4fa2-8f4d-16af17d314fe",
   "metadata": {},
   "outputs": [
    {
     "data": {
      "text/html": [
       "<div>\n",
       "<style scoped>\n",
       "    .dataframe tbody tr th:only-of-type {\n",
       "        vertical-align: middle;\n",
       "    }\n",
       "\n",
       "    .dataframe tbody tr th {\n",
       "        vertical-align: top;\n",
       "    }\n",
       "\n",
       "    .dataframe thead th {\n",
       "        text-align: right;\n",
       "    }\n",
       "</style>\n",
       "<table border=\"1\" class=\"dataframe\">\n",
       "  <thead>\n",
       "    <tr style=\"text-align: right;\">\n",
       "      <th></th>\n",
       "      <th>cosine_sim</th>\n",
       "    </tr>\n",
       "  </thead>\n",
       "  <tbody>\n",
       "    <tr>\n",
       "      <th>count</th>\n",
       "      <td>300.000000</td>\n",
       "    </tr>\n",
       "    <tr>\n",
       "      <th>mean</th>\n",
       "      <td>0.728393</td>\n",
       "    </tr>\n",
       "    <tr>\n",
       "      <th>std</th>\n",
       "      <td>0.157755</td>\n",
       "    </tr>\n",
       "    <tr>\n",
       "      <th>min</th>\n",
       "      <td>0.125357</td>\n",
       "    </tr>\n",
       "    <tr>\n",
       "      <th>25%</th>\n",
       "      <td>0.651273</td>\n",
       "    </tr>\n",
       "    <tr>\n",
       "      <th>50%</th>\n",
       "      <td>0.763761</td>\n",
       "    </tr>\n",
       "    <tr>\n",
       "      <th>75%</th>\n",
       "      <td>0.836235</td>\n",
       "    </tr>\n",
       "    <tr>\n",
       "      <th>max</th>\n",
       "      <td>0.958796</td>\n",
       "    </tr>\n",
       "  </tbody>\n",
       "</table>\n",
       "</div>"
      ],
      "text/plain": [
       "       cosine_sim\n",
       "count  300.000000\n",
       "mean     0.728393\n",
       "std      0.157755\n",
       "min      0.125357\n",
       "25%      0.651273\n",
       "50%      0.763761\n",
       "75%      0.836235\n",
       "max      0.958796"
      ]
     },
     "execution_count": 90,
     "metadata": {},
     "output_type": "execute_result"
    }
   ],
   "source": [
    "df_norm_v.describe()"
   ]
  },
  {
   "cell_type": "markdown",
   "id": "a85074e0-0fc2-4101-9588-50a1f194bf33",
   "metadata": {},
   "source": [
    "### Answer Q3: \n",
    "- 0.83"
   ]
  },
  {
   "cell_type": "markdown",
   "id": "2c9b4f04-e21b-4e66-aeae-d989861c7127",
   "metadata": {},
   "source": [
    "## Q4. Rouge\n",
    "Now we will explore an alternative metric - the ROUGE score.\n",
    "\n",
    "This is a set of metrics that compares two answers based on the overlap of n-grams, word sequences, and word pairs.\n",
    "\n",
    "It can give a more nuanced view of text similarity than just cosine similarity alone.\n",
    "\n",
    "We don't need to implement it ourselves, there's a python package for it:"
   ]
  },
  {
   "cell_type": "code",
   "execution_count": 91,
   "id": "48c4cb15-194a-4f5a-be69-61f265acd2f0",
   "metadata": {},
   "outputs": [
    {
     "name": "stderr",
     "output_type": "stream",
     "text": [
      "huggingface/tokenizers: The current process just got forked, after parallelism has already been used. Disabling parallelism to avoid deadlocks...\n",
      "To disable this warning, you can either:\n",
      "\t- Avoid using `tokenizers` before the fork if possible\n",
      "\t- Explicitly set the environment variable TOKENIZERS_PARALLELISM=(true | false)\n"
     ]
    },
    {
     "name": "stdout",
     "output_type": "stream",
     "text": [
      "Collecting rouge\n",
      "  Downloading rouge-1.0.1-py3-none-any.whl.metadata (4.1 kB)\n",
      "Requirement already satisfied: six in /home/codespace/.local/lib/python3.10/site-packages (from rouge) (1.16.0)\n",
      "Downloading rouge-1.0.1-py3-none-any.whl (13 kB)\n",
      "Installing collected packages: rouge\n",
      "Successfully installed rouge-1.0.1\n",
      "\n",
      "\u001b[1m[\u001b[0m\u001b[34;49mnotice\u001b[0m\u001b[1;39;49m]\u001b[0m\u001b[39;49m A new release of pip is available: \u001b[0m\u001b[31;49m24.0\u001b[0m\u001b[39;49m -> \u001b[0m\u001b[32;49m24.2\u001b[0m\n",
      "\u001b[1m[\u001b[0m\u001b[34;49mnotice\u001b[0m\u001b[1;39;49m]\u001b[0m\u001b[39;49m To update, run: \u001b[0m\u001b[32;49mpython3 -m pip install --upgrade pip\u001b[0m\n",
      "Note: you may need to restart the kernel to use updated packages.\n"
     ]
    }
   ],
   "source": [
    "pip install rouge"
   ]
  },
  {
   "cell_type": "markdown",
   "id": "5003cc28-6f29-459b-b9af-59e1ab301d4c",
   "metadata": {},
   "source": [
    "```Let's compute the ROUGE score between the answers at the index 10 of our dataframe (doc_id=5170565b)```"
   ]
  },
  {
   "cell_type": "code",
   "execution_count": 96,
   "id": "a5fce165-505f-4f67-8141-9a4bb2253a1e",
   "metadata": {},
   "outputs": [],
   "source": [
    "answ_test = df_norm_v[df_norm_v['document'] == '5170565b']"
   ]
  },
  {
   "cell_type": "code",
   "execution_count": 122,
   "id": "419ee323-1a24-46fe-bc14-26dd7158d755",
   "metadata": {},
   "outputs": [],
   "source": [
    "from rouge import Rouge\n",
    "rouge_scorer = Rouge()\n",
    "\n",
    "scores = rouge_scorer.get_scores(answ_test['answer_llm'], answ_test['answer_orig'])[0]"
   ]
  },
  {
   "cell_type": "code",
   "execution_count": 123,
   "id": "049577fd-252e-40b9-8890-d3ca31021ad2",
   "metadata": {},
   "outputs": [
    {
     "data": {
      "text/plain": [
       "{'rouge-1': {'r': 0.45454545454545453,\n",
       "  'p': 0.45454545454545453,\n",
       "  'f': 0.45454544954545456},\n",
       " 'rouge-2': {'r': 0.21621621621621623,\n",
       "  'p': 0.21621621621621623,\n",
       "  'f': 0.21621621121621637},\n",
       " 'rouge-l': {'r': 0.3939393939393939,\n",
       "  'p': 0.3939393939393939,\n",
       "  'f': 0.393939388939394}}"
      ]
     },
     "execution_count": 123,
     "metadata": {},
     "output_type": "execute_result"
    }
   ],
   "source": [
    "scores"
   ]
  },
  {
   "cell_type": "markdown",
   "id": "f6912776-db9f-473b-a5fd-f195e587100e",
   "metadata": {},
   "source": [
    "There are three scores: ```rouge-1```, ```rouge-2``` and ```rouge-l```, and precision, recall and F1 score for each.\n",
    "\n",
    "- ```rouge-1``` - the overlap of unigrams,\n",
    "- ```rouge-2``` - bigrams,\n",
    "- ```rouge-l``` - the longest common subsequence"
   ]
  },
  {
   "cell_type": "markdown",
   "id": "98f10115-583e-4eff-9fec-6073eb00b02a",
   "metadata": {},
   "source": [
    "What's the F score for rouge-1?\n",
    "\n",
    "- 0.35\n",
    "- 0.45\n",
    "- 0.55\n",
    "- 0.65"
   ]
  },
  {
   "cell_type": "markdown",
   "id": "368db70e-5973-4df4-8243-40a89a64da00",
   "metadata": {},
   "source": [
    "### Answer Q4:\n",
    "- 0.45"
   ]
  },
  {
   "cell_type": "markdown",
   "id": "bd79a3a1-7102-4e26-873c-6720fe1c3a1a",
   "metadata": {},
   "source": [
    "## Q5. Average rouge score\n",
    "Let's compute the average F-score between rouge-1, rouge-2 and rouge-l for the same record from Q4\n",
    "\n",
    "- 0.35\n",
    "- 0.45\n",
    "- 0.55\n",
    "- 0.65"
   ]
  },
  {
   "cell_type": "code",
   "execution_count": 124,
   "id": "5d793a9b-5525-4d3b-850b-3c1bc7798e61",
   "metadata": {},
   "outputs": [
    {
     "data": {
      "text/plain": [
       "{'r': 0.45454545454545453, 'p': 0.45454545454545453, 'f': 0.45454544954545456}"
      ]
     },
     "execution_count": 124,
     "metadata": {},
     "output_type": "execute_result"
    }
   ],
   "source": [
    "scores['rouge-1']"
   ]
  },
  {
   "cell_type": "code",
   "execution_count": 125,
   "id": "c6cf9f49-dad5-4cdd-a568-1651c97c91b4",
   "metadata": {},
   "outputs": [
    {
     "data": {
      "text/plain": [
       "0.45454544954545456"
      ]
     },
     "execution_count": 125,
     "metadata": {},
     "output_type": "execute_result"
    }
   ],
   "source": [
    "scores['rouge-1']['f']"
   ]
  },
  {
   "cell_type": "code",
   "execution_count": 126,
   "id": "4097fd4f-b6db-44da-9287-720d02befd33",
   "metadata": {},
   "outputs": [],
   "source": [
    "f_mean = []\n",
    "\n",
    "for key in scores:\n",
    "    f_mean.append(scores[key]['f'])"
   ]
  },
  {
   "cell_type": "code",
   "execution_count": 127,
   "id": "d99ffd2c-0358-4c37-bc30-6c7baa6b01aa",
   "metadata": {},
   "outputs": [
    {
     "data": {
      "text/plain": [
       "0.35490034990035496"
      ]
     },
     "execution_count": 127,
     "metadata": {},
     "output_type": "execute_result"
    }
   ],
   "source": [
    "mean_f_mean = sum(f_mean) / len(f_mean)\n",
    "\n",
    "\n",
    "mean_f_mean"
   ]
  },
  {
   "cell_type": "markdown",
   "id": "f6c6c134-6507-4ca8-a376-9f954df62b6e",
   "metadata": {},
   "source": [
    "### Answer Q5:\n",
    "- 0.35"
   ]
  },
  {
   "cell_type": "markdown",
   "id": "66ef084f-dbce-4694-8595-dcafc7da2137",
   "metadata": {},
   "source": [
    "## Q6. Average rouge score for all the data points\n",
    "Now let's compute the score for all the records and create a dataframe from them.\n",
    "\n",
    "What's the average rouge_2 across all the records?\n",
    "\n",
    "- 0.10\n",
    "- 0.20\n",
    "- 0.30\n",
    "- 0.40"
   ]
  },
  {
   "cell_type": "code",
   "execution_count": 145,
   "id": "cba7d434-7970-4fad-a8c1-40fe4ce904a4",
   "metadata": {},
   "outputs": [
    {
     "name": "stderr",
     "output_type": "stream",
     "text": [
      "300it [00:00, 346.19it/s]\n"
     ]
    }
   ],
   "source": [
    "evaluations = []\n",
    "\n",
    "for idx, r in tqdm(df.iterrows()):\n",
    "    scores = rouge_scorer.get_scores(r['answer_llm'], r['answer_orig'])[0]\n",
    "        \n",
    "    rouge_1 = scores['rouge-1']['f']\n",
    "    rouge_2 = scores['rouge-2']['f']\n",
    "    rouge_l = scores['rouge-l']['f']\n",
    "    rouge_avg = (rouge_1 + rouge_2 + rouge_l) / 3\n",
    "    \n",
    "    evaluations.append({'rouge_1': rouge_1,\n",
    "                       'rouge_2': rouge_2,\n",
    "                       'rouge_l': rouge_l,\n",
    "                       'mean_rouge': rouge_avg})"
   ]
  },
  {
   "cell_type": "code",
   "execution_count": 146,
   "id": "5c62e41b-4471-4a08-a394-9483ffefac4f",
   "metadata": {},
   "outputs": [
    {
     "name": "stdout",
     "output_type": "stream",
     "text": [
      "0.20696501983423318\n"
     ]
    }
   ],
   "source": [
    "print(pd.DataFrame(evaluations)['rouge_2'].mean())\n"
   ]
  },
  {
   "cell_type": "markdown",
   "id": "1afc216e-fb82-4c88-a266-f234b59051d7",
   "metadata": {},
   "source": [
    "### Answer Q6:\n",
    "- 0.20"
   ]
  },
  {
   "cell_type": "code",
   "execution_count": null,
   "id": "c136668c-52c6-48a1-b267-a7126d127976",
   "metadata": {},
   "outputs": [],
   "source": []
  }
 ],
 "metadata": {
  "kernelspec": {
   "display_name": "Python 3 (ipykernel)",
   "language": "python",
   "name": "python3"
  },
  "language_info": {
   "codemirror_mode": {
    "name": "ipython",
    "version": 3
   },
   "file_extension": ".py",
   "mimetype": "text/x-python",
   "name": "python",
   "nbconvert_exporter": "python",
   "pygments_lexer": "ipython3",
   "version": "3.10.13"
  }
 },
 "nbformat": 4,
 "nbformat_minor": 5
}
